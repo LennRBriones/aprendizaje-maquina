{
 "cells": [
  {
   "cell_type": "code",
   "execution_count": 28,
   "metadata": {},
   "outputs": [],
   "source": [
    "import pandas as pd\n",
    "import numpy as np\n",
    "import matplotlib.pyplot as plt"
   ]
  },
  {
   "cell_type": "code",
   "execution_count": 29,
   "metadata": {},
   "outputs": [],
   "source": [
    "np.random.seed(200929)"
   ]
  },
  {
   "cell_type": "code",
   "execution_count": 30,
   "metadata": {},
   "outputs": [],
   "source": [
    "energy = pd.read_csv('../../../datasets/energydata_complete.csv')"
   ]
  },
  {
   "cell_type": "markdown",
   "metadata": {},
   "source": [
    "1. ¿Cuántas observaciones tienes?"
   ]
  },
  {
   "cell_type": "code",
   "execution_count": 31,
   "metadata": {},
   "outputs": [
    {
     "data": {
      "text/plain": [
       "(19735, 29)"
      ]
     },
     "execution_count": 31,
     "metadata": {},
     "output_type": "execute_result"
    }
   ],
   "source": [
    "energy.shape"
   ]
  },
  {
   "cell_type": "markdown",
   "metadata": {},
   "source": [
    "2. Transformación de variables "
   ]
  },
  {
   "cell_type": "code",
   "execution_count": 32,
   "metadata": {},
   "outputs": [
    {
     "data": {
      "text/html": [
       "<div>\n",
       "<style scoped>\n",
       "    .dataframe tbody tr th:only-of-type {\n",
       "        vertical-align: middle;\n",
       "    }\n",
       "\n",
       "    .dataframe tbody tr th {\n",
       "        vertical-align: top;\n",
       "    }\n",
       "\n",
       "    .dataframe thead th {\n",
       "        text-align: right;\n",
       "    }\n",
       "</style>\n",
       "<table border=\"1\" class=\"dataframe\">\n",
       "  <thead>\n",
       "    <tr style=\"text-align: right;\">\n",
       "      <th></th>\n",
       "      <th>date</th>\n",
       "      <th>Appliances</th>\n",
       "      <th>lights</th>\n",
       "      <th>T1</th>\n",
       "      <th>RH_1</th>\n",
       "      <th>T2</th>\n",
       "      <th>RH_2</th>\n",
       "      <th>T3</th>\n",
       "      <th>RH_3</th>\n",
       "      <th>T4</th>\n",
       "      <th>...</th>\n",
       "      <th>T9</th>\n",
       "      <th>RH_9</th>\n",
       "      <th>T_out</th>\n",
       "      <th>Press_mm_hg</th>\n",
       "      <th>RH_out</th>\n",
       "      <th>Windspeed</th>\n",
       "      <th>Visibility</th>\n",
       "      <th>Tdewpoint</th>\n",
       "      <th>rv1</th>\n",
       "      <th>rv2</th>\n",
       "    </tr>\n",
       "  </thead>\n",
       "  <tbody>\n",
       "    <tr>\n",
       "      <th>0</th>\n",
       "      <td>2016-01-11 17:00:00</td>\n",
       "      <td>60</td>\n",
       "      <td>30</td>\n",
       "      <td>19.89</td>\n",
       "      <td>47.596667</td>\n",
       "      <td>19.2</td>\n",
       "      <td>44.790000</td>\n",
       "      <td>19.79</td>\n",
       "      <td>44.730000</td>\n",
       "      <td>19.000000</td>\n",
       "      <td>...</td>\n",
       "      <td>17.033333</td>\n",
       "      <td>45.53</td>\n",
       "      <td>6.600000</td>\n",
       "      <td>733.5</td>\n",
       "      <td>92.0</td>\n",
       "      <td>7.000000</td>\n",
       "      <td>63.000000</td>\n",
       "      <td>5.3</td>\n",
       "      <td>13.275433</td>\n",
       "      <td>13.275433</td>\n",
       "    </tr>\n",
       "    <tr>\n",
       "      <th>1</th>\n",
       "      <td>2016-01-11 17:10:00</td>\n",
       "      <td>60</td>\n",
       "      <td>30</td>\n",
       "      <td>19.89</td>\n",
       "      <td>46.693333</td>\n",
       "      <td>19.2</td>\n",
       "      <td>44.722500</td>\n",
       "      <td>19.79</td>\n",
       "      <td>44.790000</td>\n",
       "      <td>19.000000</td>\n",
       "      <td>...</td>\n",
       "      <td>17.066667</td>\n",
       "      <td>45.56</td>\n",
       "      <td>6.483333</td>\n",
       "      <td>733.6</td>\n",
       "      <td>92.0</td>\n",
       "      <td>6.666667</td>\n",
       "      <td>59.166667</td>\n",
       "      <td>5.2</td>\n",
       "      <td>18.606195</td>\n",
       "      <td>18.606195</td>\n",
       "    </tr>\n",
       "    <tr>\n",
       "      <th>2</th>\n",
       "      <td>2016-01-11 17:20:00</td>\n",
       "      <td>50</td>\n",
       "      <td>30</td>\n",
       "      <td>19.89</td>\n",
       "      <td>46.300000</td>\n",
       "      <td>19.2</td>\n",
       "      <td>44.626667</td>\n",
       "      <td>19.79</td>\n",
       "      <td>44.933333</td>\n",
       "      <td>18.926667</td>\n",
       "      <td>...</td>\n",
       "      <td>17.000000</td>\n",
       "      <td>45.50</td>\n",
       "      <td>6.366667</td>\n",
       "      <td>733.7</td>\n",
       "      <td>92.0</td>\n",
       "      <td>6.333333</td>\n",
       "      <td>55.333333</td>\n",
       "      <td>5.1</td>\n",
       "      <td>28.642668</td>\n",
       "      <td>28.642668</td>\n",
       "    </tr>\n",
       "    <tr>\n",
       "      <th>3</th>\n",
       "      <td>2016-01-11 17:30:00</td>\n",
       "      <td>50</td>\n",
       "      <td>40</td>\n",
       "      <td>19.89</td>\n",
       "      <td>46.066667</td>\n",
       "      <td>19.2</td>\n",
       "      <td>44.590000</td>\n",
       "      <td>19.79</td>\n",
       "      <td>45.000000</td>\n",
       "      <td>18.890000</td>\n",
       "      <td>...</td>\n",
       "      <td>17.000000</td>\n",
       "      <td>45.40</td>\n",
       "      <td>6.250000</td>\n",
       "      <td>733.8</td>\n",
       "      <td>92.0</td>\n",
       "      <td>6.000000</td>\n",
       "      <td>51.500000</td>\n",
       "      <td>5.0</td>\n",
       "      <td>45.410389</td>\n",
       "      <td>45.410389</td>\n",
       "    </tr>\n",
       "    <tr>\n",
       "      <th>4</th>\n",
       "      <td>2016-01-11 17:40:00</td>\n",
       "      <td>60</td>\n",
       "      <td>40</td>\n",
       "      <td>19.89</td>\n",
       "      <td>46.333333</td>\n",
       "      <td>19.2</td>\n",
       "      <td>44.530000</td>\n",
       "      <td>19.79</td>\n",
       "      <td>45.000000</td>\n",
       "      <td>18.890000</td>\n",
       "      <td>...</td>\n",
       "      <td>17.000000</td>\n",
       "      <td>45.40</td>\n",
       "      <td>6.133333</td>\n",
       "      <td>733.9</td>\n",
       "      <td>92.0</td>\n",
       "      <td>5.666667</td>\n",
       "      <td>47.666667</td>\n",
       "      <td>4.9</td>\n",
       "      <td>10.084097</td>\n",
       "      <td>10.084097</td>\n",
       "    </tr>\n",
       "  </tbody>\n",
       "</table>\n",
       "<p>5 rows × 29 columns</p>\n",
       "</div>"
      ],
      "text/plain": [
       "                  date  Appliances  lights     T1       RH_1    T2       RH_2  \\\n",
       "0  2016-01-11 17:00:00          60      30  19.89  47.596667  19.2  44.790000   \n",
       "1  2016-01-11 17:10:00          60      30  19.89  46.693333  19.2  44.722500   \n",
       "2  2016-01-11 17:20:00          50      30  19.89  46.300000  19.2  44.626667   \n",
       "3  2016-01-11 17:30:00          50      40  19.89  46.066667  19.2  44.590000   \n",
       "4  2016-01-11 17:40:00          60      40  19.89  46.333333  19.2  44.530000   \n",
       "\n",
       "      T3       RH_3         T4  ...         T9   RH_9     T_out  Press_mm_hg  \\\n",
       "0  19.79  44.730000  19.000000  ...  17.033333  45.53  6.600000        733.5   \n",
       "1  19.79  44.790000  19.000000  ...  17.066667  45.56  6.483333        733.6   \n",
       "2  19.79  44.933333  18.926667  ...  17.000000  45.50  6.366667        733.7   \n",
       "3  19.79  45.000000  18.890000  ...  17.000000  45.40  6.250000        733.8   \n",
       "4  19.79  45.000000  18.890000  ...  17.000000  45.40  6.133333        733.9   \n",
       "\n",
       "   RH_out  Windspeed  Visibility  Tdewpoint        rv1        rv2  \n",
       "0    92.0   7.000000   63.000000        5.3  13.275433  13.275433  \n",
       "1    92.0   6.666667   59.166667        5.2  18.606195  18.606195  \n",
       "2    92.0   6.333333   55.333333        5.1  28.642668  28.642668  \n",
       "3    92.0   6.000000   51.500000        5.0  45.410389  45.410389  \n",
       "4    92.0   5.666667   47.666667        4.9  10.084097  10.084097  \n",
       "\n",
       "[5 rows x 29 columns]"
      ]
     },
     "execution_count": 32,
     "metadata": {},
     "output_type": "execute_result"
    }
   ],
   "source": [
    "energy.head()"
   ]
  },
  {
   "cell_type": "markdown",
   "metadata": {},
   "source": [
    "a. De la variable date, genera 3 nuevas columnas para que tengas el año, el mes y el día. "
   ]
  },
  {
   "cell_type": "code",
   "execution_count": 33,
   "metadata": {},
   "outputs": [],
   "source": [
    "energy['year'] = pd.DatetimeIndex(energy['date']).year\n",
    "energy['month'] = pd.DatetimeIndex(energy['date']).month\n",
    "energy['day'] = pd.DatetimeIndex(energy['date']).day"
   ]
  },
  {
   "cell_type": "code",
   "execution_count": 34,
   "metadata": {},
   "outputs": [],
   "source": [
    "energy.drop(\"date\", inplace=True, axis=1)"
   ]
  },
  {
   "cell_type": "code",
   "execution_count": 35,
   "metadata": {},
   "outputs": [
    {
     "data": {
      "text/html": [
       "<div>\n",
       "<style scoped>\n",
       "    .dataframe tbody tr th:only-of-type {\n",
       "        vertical-align: middle;\n",
       "    }\n",
       "\n",
       "    .dataframe tbody tr th {\n",
       "        vertical-align: top;\n",
       "    }\n",
       "\n",
       "    .dataframe thead th {\n",
       "        text-align: right;\n",
       "    }\n",
       "</style>\n",
       "<table border=\"1\" class=\"dataframe\">\n",
       "  <thead>\n",
       "    <tr style=\"text-align: right;\">\n",
       "      <th></th>\n",
       "      <th>Appliances</th>\n",
       "      <th>lights</th>\n",
       "      <th>T1</th>\n",
       "      <th>RH_1</th>\n",
       "      <th>T2</th>\n",
       "      <th>RH_2</th>\n",
       "      <th>T3</th>\n",
       "      <th>RH_3</th>\n",
       "      <th>T4</th>\n",
       "      <th>RH_4</th>\n",
       "      <th>...</th>\n",
       "      <th>Press_mm_hg</th>\n",
       "      <th>RH_out</th>\n",
       "      <th>Windspeed</th>\n",
       "      <th>Visibility</th>\n",
       "      <th>Tdewpoint</th>\n",
       "      <th>rv1</th>\n",
       "      <th>rv2</th>\n",
       "      <th>year</th>\n",
       "      <th>month</th>\n",
       "      <th>day</th>\n",
       "    </tr>\n",
       "  </thead>\n",
       "  <tbody>\n",
       "    <tr>\n",
       "      <th>0</th>\n",
       "      <td>60</td>\n",
       "      <td>30</td>\n",
       "      <td>19.89</td>\n",
       "      <td>47.596667</td>\n",
       "      <td>19.2</td>\n",
       "      <td>44.790000</td>\n",
       "      <td>19.79</td>\n",
       "      <td>44.730000</td>\n",
       "      <td>19.000000</td>\n",
       "      <td>45.566667</td>\n",
       "      <td>...</td>\n",
       "      <td>733.5</td>\n",
       "      <td>92.0</td>\n",
       "      <td>7.000000</td>\n",
       "      <td>63.000000</td>\n",
       "      <td>5.3</td>\n",
       "      <td>13.275433</td>\n",
       "      <td>13.275433</td>\n",
       "      <td>2016</td>\n",
       "      <td>1</td>\n",
       "      <td>11</td>\n",
       "    </tr>\n",
       "    <tr>\n",
       "      <th>1</th>\n",
       "      <td>60</td>\n",
       "      <td>30</td>\n",
       "      <td>19.89</td>\n",
       "      <td>46.693333</td>\n",
       "      <td>19.2</td>\n",
       "      <td>44.722500</td>\n",
       "      <td>19.79</td>\n",
       "      <td>44.790000</td>\n",
       "      <td>19.000000</td>\n",
       "      <td>45.992500</td>\n",
       "      <td>...</td>\n",
       "      <td>733.6</td>\n",
       "      <td>92.0</td>\n",
       "      <td>6.666667</td>\n",
       "      <td>59.166667</td>\n",
       "      <td>5.2</td>\n",
       "      <td>18.606195</td>\n",
       "      <td>18.606195</td>\n",
       "      <td>2016</td>\n",
       "      <td>1</td>\n",
       "      <td>11</td>\n",
       "    </tr>\n",
       "    <tr>\n",
       "      <th>2</th>\n",
       "      <td>50</td>\n",
       "      <td>30</td>\n",
       "      <td>19.89</td>\n",
       "      <td>46.300000</td>\n",
       "      <td>19.2</td>\n",
       "      <td>44.626667</td>\n",
       "      <td>19.79</td>\n",
       "      <td>44.933333</td>\n",
       "      <td>18.926667</td>\n",
       "      <td>45.890000</td>\n",
       "      <td>...</td>\n",
       "      <td>733.7</td>\n",
       "      <td>92.0</td>\n",
       "      <td>6.333333</td>\n",
       "      <td>55.333333</td>\n",
       "      <td>5.1</td>\n",
       "      <td>28.642668</td>\n",
       "      <td>28.642668</td>\n",
       "      <td>2016</td>\n",
       "      <td>1</td>\n",
       "      <td>11</td>\n",
       "    </tr>\n",
       "    <tr>\n",
       "      <th>3</th>\n",
       "      <td>50</td>\n",
       "      <td>40</td>\n",
       "      <td>19.89</td>\n",
       "      <td>46.066667</td>\n",
       "      <td>19.2</td>\n",
       "      <td>44.590000</td>\n",
       "      <td>19.79</td>\n",
       "      <td>45.000000</td>\n",
       "      <td>18.890000</td>\n",
       "      <td>45.723333</td>\n",
       "      <td>...</td>\n",
       "      <td>733.8</td>\n",
       "      <td>92.0</td>\n",
       "      <td>6.000000</td>\n",
       "      <td>51.500000</td>\n",
       "      <td>5.0</td>\n",
       "      <td>45.410389</td>\n",
       "      <td>45.410389</td>\n",
       "      <td>2016</td>\n",
       "      <td>1</td>\n",
       "      <td>11</td>\n",
       "    </tr>\n",
       "    <tr>\n",
       "      <th>4</th>\n",
       "      <td>60</td>\n",
       "      <td>40</td>\n",
       "      <td>19.89</td>\n",
       "      <td>46.333333</td>\n",
       "      <td>19.2</td>\n",
       "      <td>44.530000</td>\n",
       "      <td>19.79</td>\n",
       "      <td>45.000000</td>\n",
       "      <td>18.890000</td>\n",
       "      <td>45.530000</td>\n",
       "      <td>...</td>\n",
       "      <td>733.9</td>\n",
       "      <td>92.0</td>\n",
       "      <td>5.666667</td>\n",
       "      <td>47.666667</td>\n",
       "      <td>4.9</td>\n",
       "      <td>10.084097</td>\n",
       "      <td>10.084097</td>\n",
       "      <td>2016</td>\n",
       "      <td>1</td>\n",
       "      <td>11</td>\n",
       "    </tr>\n",
       "  </tbody>\n",
       "</table>\n",
       "<p>5 rows × 31 columns</p>\n",
       "</div>"
      ],
      "text/plain": [
       "   Appliances  lights     T1       RH_1    T2       RH_2     T3       RH_3  \\\n",
       "0          60      30  19.89  47.596667  19.2  44.790000  19.79  44.730000   \n",
       "1          60      30  19.89  46.693333  19.2  44.722500  19.79  44.790000   \n",
       "2          50      30  19.89  46.300000  19.2  44.626667  19.79  44.933333   \n",
       "3          50      40  19.89  46.066667  19.2  44.590000  19.79  45.000000   \n",
       "4          60      40  19.89  46.333333  19.2  44.530000  19.79  45.000000   \n",
       "\n",
       "          T4       RH_4  ...  Press_mm_hg  RH_out  Windspeed  Visibility  \\\n",
       "0  19.000000  45.566667  ...        733.5    92.0   7.000000   63.000000   \n",
       "1  19.000000  45.992500  ...        733.6    92.0   6.666667   59.166667   \n",
       "2  18.926667  45.890000  ...        733.7    92.0   6.333333   55.333333   \n",
       "3  18.890000  45.723333  ...        733.8    92.0   6.000000   51.500000   \n",
       "4  18.890000  45.530000  ...        733.9    92.0   5.666667   47.666667   \n",
       "\n",
       "   Tdewpoint        rv1        rv2  year  month  day  \n",
       "0        5.3  13.275433  13.275433  2016      1   11  \n",
       "1        5.2  18.606195  18.606195  2016      1   11  \n",
       "2        5.1  28.642668  28.642668  2016      1   11  \n",
       "3        5.0  45.410389  45.410389  2016      1   11  \n",
       "4        4.9  10.084097  10.084097  2016      1   11  \n",
       "\n",
       "[5 rows x 31 columns]"
      ]
     },
     "execution_count": 35,
     "metadata": {},
     "output_type": "execute_result"
    }
   ],
   "source": [
    "energy.head()"
   ]
  },
  {
   "cell_type": "markdown",
   "metadata": {},
   "source": [
    "b. Elimina las variables rv1 y rv2 utilizando el método drop de pandas."
   ]
  },
  {
   "cell_type": "code",
   "execution_count": 36,
   "metadata": {},
   "outputs": [],
   "source": [
    "energy.drop(['rv1','rv2'], inplace=True, axis=1)"
   ]
  },
  {
   "cell_type": "code",
   "execution_count": 37,
   "metadata": {},
   "outputs": [
    {
     "data": {
      "text/html": [
       "<div>\n",
       "<style scoped>\n",
       "    .dataframe tbody tr th:only-of-type {\n",
       "        vertical-align: middle;\n",
       "    }\n",
       "\n",
       "    .dataframe tbody tr th {\n",
       "        vertical-align: top;\n",
       "    }\n",
       "\n",
       "    .dataframe thead th {\n",
       "        text-align: right;\n",
       "    }\n",
       "</style>\n",
       "<table border=\"1\" class=\"dataframe\">\n",
       "  <thead>\n",
       "    <tr style=\"text-align: right;\">\n",
       "      <th></th>\n",
       "      <th>Appliances</th>\n",
       "      <th>lights</th>\n",
       "      <th>T1</th>\n",
       "      <th>RH_1</th>\n",
       "      <th>T2</th>\n",
       "      <th>RH_2</th>\n",
       "      <th>T3</th>\n",
       "      <th>RH_3</th>\n",
       "      <th>T4</th>\n",
       "      <th>RH_4</th>\n",
       "      <th>...</th>\n",
       "      <th>RH_9</th>\n",
       "      <th>T_out</th>\n",
       "      <th>Press_mm_hg</th>\n",
       "      <th>RH_out</th>\n",
       "      <th>Windspeed</th>\n",
       "      <th>Visibility</th>\n",
       "      <th>Tdewpoint</th>\n",
       "      <th>year</th>\n",
       "      <th>month</th>\n",
       "      <th>day</th>\n",
       "    </tr>\n",
       "  </thead>\n",
       "  <tbody>\n",
       "    <tr>\n",
       "      <th>0</th>\n",
       "      <td>60</td>\n",
       "      <td>30</td>\n",
       "      <td>19.89</td>\n",
       "      <td>47.596667</td>\n",
       "      <td>19.2</td>\n",
       "      <td>44.790000</td>\n",
       "      <td>19.79</td>\n",
       "      <td>44.730000</td>\n",
       "      <td>19.000000</td>\n",
       "      <td>45.566667</td>\n",
       "      <td>...</td>\n",
       "      <td>45.53</td>\n",
       "      <td>6.600000</td>\n",
       "      <td>733.5</td>\n",
       "      <td>92.0</td>\n",
       "      <td>7.000000</td>\n",
       "      <td>63.000000</td>\n",
       "      <td>5.3</td>\n",
       "      <td>2016</td>\n",
       "      <td>1</td>\n",
       "      <td>11</td>\n",
       "    </tr>\n",
       "    <tr>\n",
       "      <th>1</th>\n",
       "      <td>60</td>\n",
       "      <td>30</td>\n",
       "      <td>19.89</td>\n",
       "      <td>46.693333</td>\n",
       "      <td>19.2</td>\n",
       "      <td>44.722500</td>\n",
       "      <td>19.79</td>\n",
       "      <td>44.790000</td>\n",
       "      <td>19.000000</td>\n",
       "      <td>45.992500</td>\n",
       "      <td>...</td>\n",
       "      <td>45.56</td>\n",
       "      <td>6.483333</td>\n",
       "      <td>733.6</td>\n",
       "      <td>92.0</td>\n",
       "      <td>6.666667</td>\n",
       "      <td>59.166667</td>\n",
       "      <td>5.2</td>\n",
       "      <td>2016</td>\n",
       "      <td>1</td>\n",
       "      <td>11</td>\n",
       "    </tr>\n",
       "    <tr>\n",
       "      <th>2</th>\n",
       "      <td>50</td>\n",
       "      <td>30</td>\n",
       "      <td>19.89</td>\n",
       "      <td>46.300000</td>\n",
       "      <td>19.2</td>\n",
       "      <td>44.626667</td>\n",
       "      <td>19.79</td>\n",
       "      <td>44.933333</td>\n",
       "      <td>18.926667</td>\n",
       "      <td>45.890000</td>\n",
       "      <td>...</td>\n",
       "      <td>45.50</td>\n",
       "      <td>6.366667</td>\n",
       "      <td>733.7</td>\n",
       "      <td>92.0</td>\n",
       "      <td>6.333333</td>\n",
       "      <td>55.333333</td>\n",
       "      <td>5.1</td>\n",
       "      <td>2016</td>\n",
       "      <td>1</td>\n",
       "      <td>11</td>\n",
       "    </tr>\n",
       "    <tr>\n",
       "      <th>3</th>\n",
       "      <td>50</td>\n",
       "      <td>40</td>\n",
       "      <td>19.89</td>\n",
       "      <td>46.066667</td>\n",
       "      <td>19.2</td>\n",
       "      <td>44.590000</td>\n",
       "      <td>19.79</td>\n",
       "      <td>45.000000</td>\n",
       "      <td>18.890000</td>\n",
       "      <td>45.723333</td>\n",
       "      <td>...</td>\n",
       "      <td>45.40</td>\n",
       "      <td>6.250000</td>\n",
       "      <td>733.8</td>\n",
       "      <td>92.0</td>\n",
       "      <td>6.000000</td>\n",
       "      <td>51.500000</td>\n",
       "      <td>5.0</td>\n",
       "      <td>2016</td>\n",
       "      <td>1</td>\n",
       "      <td>11</td>\n",
       "    </tr>\n",
       "    <tr>\n",
       "      <th>4</th>\n",
       "      <td>60</td>\n",
       "      <td>40</td>\n",
       "      <td>19.89</td>\n",
       "      <td>46.333333</td>\n",
       "      <td>19.2</td>\n",
       "      <td>44.530000</td>\n",
       "      <td>19.79</td>\n",
       "      <td>45.000000</td>\n",
       "      <td>18.890000</td>\n",
       "      <td>45.530000</td>\n",
       "      <td>...</td>\n",
       "      <td>45.40</td>\n",
       "      <td>6.133333</td>\n",
       "      <td>733.9</td>\n",
       "      <td>92.0</td>\n",
       "      <td>5.666667</td>\n",
       "      <td>47.666667</td>\n",
       "      <td>4.9</td>\n",
       "      <td>2016</td>\n",
       "      <td>1</td>\n",
       "      <td>11</td>\n",
       "    </tr>\n",
       "  </tbody>\n",
       "</table>\n",
       "<p>5 rows × 29 columns</p>\n",
       "</div>"
      ],
      "text/plain": [
       "   Appliances  lights     T1       RH_1    T2       RH_2     T3       RH_3  \\\n",
       "0          60      30  19.89  47.596667  19.2  44.790000  19.79  44.730000   \n",
       "1          60      30  19.89  46.693333  19.2  44.722500  19.79  44.790000   \n",
       "2          50      30  19.89  46.300000  19.2  44.626667  19.79  44.933333   \n",
       "3          50      40  19.89  46.066667  19.2  44.590000  19.79  45.000000   \n",
       "4          60      40  19.89  46.333333  19.2  44.530000  19.79  45.000000   \n",
       "\n",
       "          T4       RH_4  ...   RH_9     T_out  Press_mm_hg  RH_out  Windspeed  \\\n",
       "0  19.000000  45.566667  ...  45.53  6.600000        733.5    92.0   7.000000   \n",
       "1  19.000000  45.992500  ...  45.56  6.483333        733.6    92.0   6.666667   \n",
       "2  18.926667  45.890000  ...  45.50  6.366667        733.7    92.0   6.333333   \n",
       "3  18.890000  45.723333  ...  45.40  6.250000        733.8    92.0   6.000000   \n",
       "4  18.890000  45.530000  ...  45.40  6.133333        733.9    92.0   5.666667   \n",
       "\n",
       "   Visibility  Tdewpoint  year  month  day  \n",
       "0   63.000000        5.3  2016      1   11  \n",
       "1   59.166667        5.2  2016      1   11  \n",
       "2   55.333333        5.1  2016      1   11  \n",
       "3   51.500000        5.0  2016      1   11  \n",
       "4   47.666667        4.9  2016      1   11  \n",
       "\n",
       "[5 rows x 29 columns]"
      ]
     },
     "execution_count": 37,
     "metadata": {},
     "output_type": "execute_result"
    }
   ],
   "source": [
    "energy.head()"
   ]
  },
  {
   "cell_type": "markdown",
   "metadata": {},
   "source": [
    "c. Escala las variables"
   ]
  },
  {
   "cell_type": "code",
   "execution_count": 38,
   "metadata": {},
   "outputs": [],
   "source": [
    "from sklearn.preprocessing import scale"
   ]
  },
  {
   "cell_type": "code",
   "execution_count": 39,
   "metadata": {},
   "outputs": [],
   "source": [
    "X = scale(energy)"
   ]
  },
  {
   "cell_type": "code",
   "execution_count": 40,
   "metadata": {},
   "outputs": [
    {
     "data": {
      "text/plain": [
       "array([[-0.36767572,  3.30126384, -1.11864475,  1.84382063, -0.52041138,\n",
       "         1.07368343, -1.23506343,  1.68612997, -0.90821667,  1.50643758,\n",
       "        -1.31490324,  0.47116038, -0.14519618,  0.95179837, -1.45364639,\n",
       "         1.21986131, -1.95750878,  1.14157236, -1.21732362,  0.95813624,\n",
       "        -0.15264674, -2.97632767,  0.82208042,  1.20769354,  2.09159642,\n",
       "         0.3669753 ,  0.        , -1.56936931, -0.59845459],\n",
       "       [-0.36767572,  3.30126384, -1.11864475,  1.61680671, -0.52041138,\n",
       "         1.05709748, -1.23506343,  1.70456601, -0.90821667,  1.6045285 ,\n",
       "        -1.31490324,  0.47116038, -0.17694121,  0.94559165, -1.45364639,\n",
       "         1.2068254 , -1.95750878,  1.13455378, -1.20077824,  0.96536273,\n",
       "        -0.17458781, -2.96281279,  0.82208042,  1.07170342,  1.76658397,\n",
       "         0.34313479,  0.        , -1.56936931, -0.59845459],\n",
       "       [-0.46521548,  3.30126384, -1.11864475,  1.51795932, -0.52041138,\n",
       "         1.03354953, -1.23506343,  1.74860768, -0.94411453,  1.58091757,\n",
       "        -1.31490324,  0.45896769, -0.22182211,  0.91648425, -1.45364639,\n",
       "         1.18205717, -1.95750878,  1.10903167, -1.23386899,  0.95090975,\n",
       "        -0.19652887, -2.94929791,  0.82208042,  0.93571331,  1.44157151,\n",
       "         0.31929428,  0.        , -1.56936931, -0.59845459]])"
      ]
     },
     "execution_count": 40,
     "metadata": {},
     "output_type": "execute_result"
    }
   ],
   "source": [
    "X[:3]"
   ]
  },
  {
   "cell_type": "markdown",
   "metadata": {},
   "source": [
    "3. Ocupar k-means para formar grupos\n",
    "\n",
    "a, b, c y d."
   ]
  },
  {
   "cell_type": "code",
   "execution_count": 41,
   "metadata": {},
   "outputs": [],
   "source": [
    "import seaborn as sns\n",
    "\n",
    "from sklearn.cluster import KMeans"
   ]
  },
  {
   "cell_type": "code",
   "execution_count": 42,
   "metadata": {},
   "outputs": [],
   "source": [
    "def k_means(ngroups):\n",
    "    k_means_groups = []\n",
    "\n",
    "    for element in ngroups:\n",
    "        m1 = KMeans(n_clusters=element)\n",
    "        a = m1.fit(X)\n",
    "        aux = {'centroides': a.cluster_centers_, 'labels': a.labels_, 'sse': a.inertia_}\n",
    "        k_means_groups.append(aux)\n",
    "        \n",
    "    return k_means_groups"
   ]
  },
  {
   "cell_type": "code",
   "execution_count": 43,
   "metadata": {},
   "outputs": [],
   "source": [
    "results = k_means([5,7,9,11])"
   ]
  },
  {
   "cell_type": "markdown",
   "metadata": {},
   "source": [
    "4. Gráfica de codo\n",
    "\n",
    "7 grupos pueden ser buenos puntos de corte."
   ]
  },
  {
   "cell_type": "code",
   "execution_count": 44,
   "metadata": {},
   "outputs": [],
   "source": [
    "sse = []\n",
    "for element in results:\n",
    "    sse.append(element['sse'])"
   ]
  },
  {
   "cell_type": "code",
   "execution_count": 45,
   "metadata": {},
   "outputs": [
    {
     "data": {
      "text/plain": [
       "[279625.8346017843, 248091.95281497433, 231055.7263325193, 218047.87780864397]"
      ]
     },
     "execution_count": 45,
     "metadata": {},
     "output_type": "execute_result"
    }
   ],
   "source": [
    "sse"
   ]
  },
  {
   "cell_type": "code",
   "execution_count": 46,
   "metadata": {},
   "outputs": [],
   "source": [
    "sse_df = pd.DataFrame({'groups': [5,7,9,11], 'sse': sse})"
   ]
  },
  {
   "cell_type": "code",
   "execution_count": 47,
   "metadata": {},
   "outputs": [
    {
     "data": {
      "text/plain": [
       "<AxesSubplot:xlabel='groups', ylabel='sse'>"
      ]
     },
     "execution_count": 47,
     "metadata": {},
     "output_type": "execute_result"
    },
    {
     "data": {
      "image/png": "[encoded data removed]",
      "text/plain": [
       "<Figure size 432x288 with 1 Axes>"
      ]
     },
     "metadata": {
      "needs_background": "light"
     },
     "output_type": "display_data"
    }
   ],
   "source": [
    "sns.lineplot(x=\"groups\", y=\"sse\", data=sse_df)"
   ]
  },
  {
   "cell_type": "markdown",
   "metadata": {},
   "source": [
    "5. ¿Cuáles son las coordenadas de los centroides correspondientes a los grupos generados en la opción seleccionada en la pregunta 4?"
   ]
  },
  {
   "cell_type": "code",
   "execution_count": 48,
   "metadata": {},
   "outputs": [],
   "source": [
    "centroides_kmeans_7 = results[1]['centroides']"
   ]
  },
  {
   "cell_type": "code",
   "execution_count": 49,
   "metadata": {},
   "outputs": [
    {
     "data": {
      "text/plain": [
       "array([[ 0.11175414,  0.48802543, -0.06490258,  0.89588824,  0.18184211,\n",
       "         0.53466499, -0.27380551,  1.31896882, -0.37813222,  1.16908572,\n",
       "        -0.30575364,  0.69113189, -0.22649128,  1.08219644, -0.70574833,\n",
       "         1.06983377, -0.5007236 ,  1.18321984, -0.62357939,  1.07832561,\n",
       "        -0.17121151, -0.51907588,  0.55204228,  0.82035698,  0.07289113,\n",
       "         0.18857708,  0.        , -0.97611697, -0.56377383],\n",
       "       [-0.02139475, -0.06829776, -0.17423179, -0.90017255, -0.42771611,\n",
       "        -0.58425788, -0.19366767, -0.97572351, -0.06132851, -0.9775375 ,\n",
       "        -0.25584757, -0.40041203, -0.32379064, -0.44185657,  0.02286648,\n",
       "        -1.02823656,  0.14886752, -0.90065734, -0.04905497, -0.85148517,\n",
       "        -0.36104718,  0.66554669, -0.25100547, -0.25084181,  0.00847291,\n",
       "        -0.58423459,  0.        ,  0.20648615,  0.33258732],\n",
       "       [-0.24754042, -0.12824213, -1.45108857,  0.96345   , -0.78816273,\n",
       "         0.81541713, -1.31592393,  1.41821177, -1.50415057,  1.39390764,\n",
       "        -1.31605168,  0.3222315 , -0.13983542,  1.25373662, -1.50144587,\n",
       "         1.21982267, -1.92822717,  1.22540897, -1.49225423,  1.30676087,\n",
       "        -0.05219702,  0.74102202,  0.55115035,  0.75486602, -0.0023296 ,\n",
       "         0.33622276,  0.        , -1.56131104,  1.0415958 ],\n",
       "       [-0.03236388,  0.13273385, -0.87830228, -0.5231396 , -0.82865476,\n",
       "        -0.36178191, -0.94377148, -0.26631164, -0.77896824, -0.54018307,\n",
       "        -0.85451417,  0.04842284, -1.0498872 ,  0.76656575, -0.80628337,\n",
       "        -0.49326581, -0.71446312, -0.28597751, -0.87737585, -0.53085692,\n",
       "        -1.09983902, -0.15636708,  0.39976007, -0.3532923 ,  0.15360683,\n",
       "        -1.06679374,  0.        , -0.70583847, -0.1700051 ],\n",
       "       [ 0.08193679, -0.21558499,  1.78755657,  1.69072226,  1.64731944,\n",
       "         1.30273891,  1.97336304,  1.02248081,  1.79263634,  1.28865219,\n",
       "         1.9909325 ,  0.33360481,  1.57338805, -0.82191953,  1.78067748,\n",
       "         1.3257346 ,  1.47931419,  1.17718341,  1.92221083,  1.26194039,\n",
       "         1.61090051, -0.47430748, -0.02474914, -0.34690757, -0.05155306,\n",
       "         1.97974636,  0.        ,  1.40853444,  0.16254104],\n",
       "       [-0.03722064, -0.13671913,  0.29230923,  0.20308797, -0.08118653,\n",
       "         0.62646099,  0.53032386, -0.11077166,  0.26003762,  0.10008802,\n",
       "         0.45395571, -0.07571657,  0.19913295, -0.30774029,  0.49323633,\n",
       "         0.15487931,  0.56205761, -0.06297685,  0.57292832,  0.07670245,\n",
       "         0.22238309, -0.36738767,  0.25441109, -0.13763082, -0.16716457,\n",
       "         0.48516946,  0.        ,  0.54462446,  0.06538629],\n",
       "       [ 0.10383243, -0.26684458,  1.08551295, -0.60613693,  1.4016815 ,\n",
       "        -1.28464752,  0.91810112, -0.77962421,  1.19245821, -0.63170448,\n",
       "         1.02194671, -0.50138735,  1.30905213, -1.53221435,  1.13328303,\n",
       "        -0.51447484,  0.85423314, -0.76243009,  1.05590153, -0.64168845,\n",
       "         1.27591669,  0.20248322, -1.55879936, -0.02303358, -0.05377136,\n",
       "         0.32810546,  0.        ,  1.16602567, -0.38513004]])"
      ]
     },
     "execution_count": 49,
     "metadata": {},
     "output_type": "execute_result"
    }
   ],
   "source": [
    "centroides_kmeans_7"
   ]
  },
  {
   "cell_type": "code",
   "execution_count": 50,
   "metadata": {},
   "outputs": [],
   "source": [
    "centroides_kmeans_7_aux = []\n",
    "\n",
    "for i, element in enumerate(centroides_kmeans_7):\n",
    "    aux = {}\n",
    "    for j, col in enumerate(energy.columns.values):\n",
    "        aux[col] = element[j]\n",
    "    aux['grupo'] = str(i)\n",
    "    centroides_kmeans_7_aux.append(aux)\n",
    "    "
   ]
  },
  {
   "cell_type": "code",
   "execution_count": 51,
   "metadata": {},
   "outputs": [],
   "source": [
    "centroides_kmeans_7_df = pd.DataFrame(centroides_kmeans_7_aux)"
   ]
  },
  {
   "cell_type": "code",
   "execution_count": 52,
   "metadata": {},
   "outputs": [
    {
     "data": {
      "text/html": [
       "<div>\n",
       "<style scoped>\n",
       "    .dataframe tbody tr th:only-of-type {\n",
       "        vertical-align: middle;\n",
       "    }\n",
       "\n",
       "    .dataframe tbody tr th {\n",
       "        vertical-align: top;\n",
       "    }\n",
       "\n",
       "    .dataframe thead th {\n",
       "        text-align: right;\n",
       "    }\n",
       "</style>\n",
       "<table border=\"1\" class=\"dataframe\">\n",
       "  <thead>\n",
       "    <tr style=\"text-align: right;\">\n",
       "      <th></th>\n",
       "      <th>Appliances</th>\n",
       "      <th>lights</th>\n",
       "      <th>T1</th>\n",
       "      <th>RH_1</th>\n",
       "      <th>T2</th>\n",
       "      <th>RH_2</th>\n",
       "      <th>T3</th>\n",
       "      <th>RH_3</th>\n",
       "      <th>T4</th>\n",
       "      <th>RH_4</th>\n",
       "      <th>...</th>\n",
       "      <th>Press_mm_hg</th>\n",
       "      <th>RH_out</th>\n",
       "      <th>Windspeed</th>\n",
       "      <th>Visibility</th>\n",
       "      <th>Tdewpoint</th>\n",
       "      <th>year</th>\n",
       "      <th>month</th>\n",
       "      <th>day</th>\n",
       "      <th>grupo</th>\n",
       "      <th>group</th>\n",
       "    </tr>\n",
       "  </thead>\n",
       "  <tbody>\n",
       "    <tr>\n",
       "      <th>0</th>\n",
       "      <td>0.111754</td>\n",
       "      <td>0.488025</td>\n",
       "      <td>-0.064903</td>\n",
       "      <td>0.895888</td>\n",
       "      <td>0.181842</td>\n",
       "      <td>0.534665</td>\n",
       "      <td>-0.273806</td>\n",
       "      <td>1.318969</td>\n",
       "      <td>-0.378132</td>\n",
       "      <td>1.169086</td>\n",
       "      <td>...</td>\n",
       "      <td>-0.519076</td>\n",
       "      <td>0.552042</td>\n",
       "      <td>0.820357</td>\n",
       "      <td>0.072891</td>\n",
       "      <td>0.188577</td>\n",
       "      <td>0.0</td>\n",
       "      <td>-0.976117</td>\n",
       "      <td>-0.563774</td>\n",
       "      <td>0</td>\n",
       "      <td>C</td>\n",
       "    </tr>\n",
       "    <tr>\n",
       "      <th>1</th>\n",
       "      <td>-0.021395</td>\n",
       "      <td>-0.068298</td>\n",
       "      <td>-0.174232</td>\n",
       "      <td>-0.900173</td>\n",
       "      <td>-0.427716</td>\n",
       "      <td>-0.584258</td>\n",
       "      <td>-0.193668</td>\n",
       "      <td>-0.975724</td>\n",
       "      <td>-0.061329</td>\n",
       "      <td>-0.977538</td>\n",
       "      <td>...</td>\n",
       "      <td>0.665547</td>\n",
       "      <td>-0.251005</td>\n",
       "      <td>-0.250842</td>\n",
       "      <td>0.008473</td>\n",
       "      <td>-0.584235</td>\n",
       "      <td>0.0</td>\n",
       "      <td>0.206486</td>\n",
       "      <td>0.332587</td>\n",
       "      <td>1</td>\n",
       "      <td>C</td>\n",
       "    </tr>\n",
       "    <tr>\n",
       "      <th>2</th>\n",
       "      <td>-0.247540</td>\n",
       "      <td>-0.128242</td>\n",
       "      <td>-1.451089</td>\n",
       "      <td>0.963450</td>\n",
       "      <td>-0.788163</td>\n",
       "      <td>0.815417</td>\n",
       "      <td>-1.315924</td>\n",
       "      <td>1.418212</td>\n",
       "      <td>-1.504151</td>\n",
       "      <td>1.393908</td>\n",
       "      <td>...</td>\n",
       "      <td>0.741022</td>\n",
       "      <td>0.551150</td>\n",
       "      <td>0.754866</td>\n",
       "      <td>-0.002330</td>\n",
       "      <td>0.336223</td>\n",
       "      <td>0.0</td>\n",
       "      <td>-1.561311</td>\n",
       "      <td>1.041596</td>\n",
       "      <td>2</td>\n",
       "      <td>C</td>\n",
       "    </tr>\n",
       "    <tr>\n",
       "      <th>3</th>\n",
       "      <td>-0.032364</td>\n",
       "      <td>0.132734</td>\n",
       "      <td>-0.878302</td>\n",
       "      <td>-0.523140</td>\n",
       "      <td>-0.828655</td>\n",
       "      <td>-0.361782</td>\n",
       "      <td>-0.943771</td>\n",
       "      <td>-0.266312</td>\n",
       "      <td>-0.778968</td>\n",
       "      <td>-0.540183</td>\n",
       "      <td>...</td>\n",
       "      <td>-0.156367</td>\n",
       "      <td>0.399760</td>\n",
       "      <td>-0.353292</td>\n",
       "      <td>0.153607</td>\n",
       "      <td>-1.066794</td>\n",
       "      <td>0.0</td>\n",
       "      <td>-0.705838</td>\n",
       "      <td>-0.170005</td>\n",
       "      <td>3</td>\n",
       "      <td>C</td>\n",
       "    </tr>\n",
       "    <tr>\n",
       "      <th>4</th>\n",
       "      <td>0.081937</td>\n",
       "      <td>-0.215585</td>\n",
       "      <td>1.787557</td>\n",
       "      <td>1.690722</td>\n",
       "      <td>1.647319</td>\n",
       "      <td>1.302739</td>\n",
       "      <td>1.973363</td>\n",
       "      <td>1.022481</td>\n",
       "      <td>1.792636</td>\n",
       "      <td>1.288652</td>\n",
       "      <td>...</td>\n",
       "      <td>-0.474307</td>\n",
       "      <td>-0.024749</td>\n",
       "      <td>-0.346908</td>\n",
       "      <td>-0.051553</td>\n",
       "      <td>1.979746</td>\n",
       "      <td>0.0</td>\n",
       "      <td>1.408534</td>\n",
       "      <td>0.162541</td>\n",
       "      <td>4</td>\n",
       "      <td>C</td>\n",
       "    </tr>\n",
       "    <tr>\n",
       "      <th>5</th>\n",
       "      <td>-0.037221</td>\n",
       "      <td>-0.136719</td>\n",
       "      <td>0.292309</td>\n",
       "      <td>0.203088</td>\n",
       "      <td>-0.081187</td>\n",
       "      <td>0.626461</td>\n",
       "      <td>0.530324</td>\n",
       "      <td>-0.110772</td>\n",
       "      <td>0.260038</td>\n",
       "      <td>0.100088</td>\n",
       "      <td>...</td>\n",
       "      <td>-0.367388</td>\n",
       "      <td>0.254411</td>\n",
       "      <td>-0.137631</td>\n",
       "      <td>-0.167165</td>\n",
       "      <td>0.485169</td>\n",
       "      <td>0.0</td>\n",
       "      <td>0.544624</td>\n",
       "      <td>0.065386</td>\n",
       "      <td>5</td>\n",
       "      <td>C</td>\n",
       "    </tr>\n",
       "    <tr>\n",
       "      <th>6</th>\n",
       "      <td>0.103832</td>\n",
       "      <td>-0.266845</td>\n",
       "      <td>1.085513</td>\n",
       "      <td>-0.606137</td>\n",
       "      <td>1.401682</td>\n",
       "      <td>-1.284648</td>\n",
       "      <td>0.918101</td>\n",
       "      <td>-0.779624</td>\n",
       "      <td>1.192458</td>\n",
       "      <td>-0.631704</td>\n",
       "      <td>...</td>\n",
       "      <td>0.202483</td>\n",
       "      <td>-1.558799</td>\n",
       "      <td>-0.023034</td>\n",
       "      <td>-0.053771</td>\n",
       "      <td>0.328105</td>\n",
       "      <td>0.0</td>\n",
       "      <td>1.166026</td>\n",
       "      <td>-0.385130</td>\n",
       "      <td>6</td>\n",
       "      <td>C</td>\n",
       "    </tr>\n",
       "  </tbody>\n",
       "</table>\n",
       "<p>7 rows × 31 columns</p>\n",
       "</div>"
      ],
      "text/plain": [
       "   Appliances    lights        T1      RH_1        T2      RH_2        T3  \\\n",
       "0    0.111754  0.488025 -0.064903  0.895888  0.181842  0.534665 -0.273806   \n",
       "1   -0.021395 -0.068298 -0.174232 -0.900173 -0.427716 -0.584258 -0.193668   \n",
       "2   -0.247540 -0.128242 -1.451089  0.963450 -0.788163  0.815417 -1.315924   \n",
       "3   -0.032364  0.132734 -0.878302 -0.523140 -0.828655 -0.361782 -0.943771   \n",
       "4    0.081937 -0.215585  1.787557  1.690722  1.647319  1.302739  1.973363   \n",
       "5   -0.037221 -0.136719  0.292309  0.203088 -0.081187  0.626461  0.530324   \n",
       "6    0.103832 -0.266845  1.085513 -0.606137  1.401682 -1.284648  0.918101   \n",
       "\n",
       "       RH_3        T4      RH_4  ...  Press_mm_hg    RH_out  Windspeed  \\\n",
       "0  1.318969 -0.378132  1.169086  ...    -0.519076  0.552042   0.820357   \n",
       "1 -0.975724 -0.061329 -0.977538  ...     0.665547 -0.251005  -0.250842   \n",
       "2  1.418212 -1.504151  1.393908  ...     0.741022  0.551150   0.754866   \n",
       "3 -0.266312 -0.778968 -0.540183  ...    -0.156367  0.399760  -0.353292   \n",
       "4  1.022481  1.792636  1.288652  ...    -0.474307 -0.024749  -0.346908   \n",
       "5 -0.110772  0.260038  0.100088  ...    -0.367388  0.254411  -0.137631   \n",
       "6 -0.779624  1.192458 -0.631704  ...     0.202483 -1.558799  -0.023034   \n",
       "\n",
       "   Visibility  Tdewpoint  year     month       day  grupo  group  \n",
       "0    0.072891   0.188577   0.0 -0.976117 -0.563774      0      C  \n",
       "1    0.008473  -0.584235   0.0  0.206486  0.332587      1      C  \n",
       "2   -0.002330   0.336223   0.0 -1.561311  1.041596      2      C  \n",
       "3    0.153607  -1.066794   0.0 -0.705838 -0.170005      3      C  \n",
       "4   -0.051553   1.979746   0.0  1.408534  0.162541      4      C  \n",
       "5   -0.167165   0.485169   0.0  0.544624  0.065386      5      C  \n",
       "6   -0.053771   0.328105   0.0  1.166026 -0.385130      6      C  \n",
       "\n",
       "[7 rows x 31 columns]"
      ]
     },
     "execution_count": 52,
     "metadata": {},
     "output_type": "execute_result"
    }
   ],
   "source": [
    "centroides_kmeans_7_df['group'] = \"C\"\n",
    "centroides_kmeans_7_df"
   ]
  },
  {
   "cell_type": "markdown",
   "metadata": {},
   "source": [
    "6. Etiqueta cada observación con el grupo al que pertenece\n",
    "\n",
    "a. Cuántas observaciones hay por grupo\n"
   ]
  },
  {
   "cell_type": "code",
   "execution_count": 53,
   "metadata": {},
   "outputs": [],
   "source": [
    "etiquetas = results[1]['labels']"
   ]
  },
  {
   "cell_type": "code",
   "execution_count": 54,
   "metadata": {},
   "outputs": [
    {
     "data": {
      "text/plain": [
       "array([0, 0, 0], dtype=int32)"
      ]
     },
     "execution_count": 54,
     "metadata": {},
     "output_type": "execute_result"
    }
   ],
   "source": [
    "etiquetas[:3]"
   ]
  },
  {
   "cell_type": "code",
   "execution_count": 55,
   "metadata": {},
   "outputs": [],
   "source": [
    "scaled_data = pd.DataFrame(X, columns=energy.columns.values)"
   ]
  },
  {
   "cell_type": "code",
   "execution_count": 56,
   "metadata": {},
   "outputs": [
    {
     "data": {
      "text/html": [
       "<div>\n",
       "<style scoped>\n",
       "    .dataframe tbody tr th:only-of-type {\n",
       "        vertical-align: middle;\n",
       "    }\n",
       "\n",
       "    .dataframe tbody tr th {\n",
       "        vertical-align: top;\n",
       "    }\n",
       "\n",
       "    .dataframe thead th {\n",
       "        text-align: right;\n",
       "    }\n",
       "</style>\n",
       "<table border=\"1\" class=\"dataframe\">\n",
       "  <thead>\n",
       "    <tr style=\"text-align: right;\">\n",
       "      <th></th>\n",
       "      <th>Appliances</th>\n",
       "      <th>lights</th>\n",
       "      <th>T1</th>\n",
       "      <th>RH_1</th>\n",
       "      <th>T2</th>\n",
       "      <th>RH_2</th>\n",
       "      <th>T3</th>\n",
       "      <th>RH_3</th>\n",
       "      <th>T4</th>\n",
       "      <th>RH_4</th>\n",
       "      <th>...</th>\n",
       "      <th>RH_9</th>\n",
       "      <th>T_out</th>\n",
       "      <th>Press_mm_hg</th>\n",
       "      <th>RH_out</th>\n",
       "      <th>Windspeed</th>\n",
       "      <th>Visibility</th>\n",
       "      <th>Tdewpoint</th>\n",
       "      <th>year</th>\n",
       "      <th>month</th>\n",
       "      <th>day</th>\n",
       "    </tr>\n",
       "  </thead>\n",
       "  <tbody>\n",
       "    <tr>\n",
       "      <th>0</th>\n",
       "      <td>-0.367676</td>\n",
       "      <td>3.301264</td>\n",
       "      <td>-1.118645</td>\n",
       "      <td>1.843821</td>\n",
       "      <td>-0.520411</td>\n",
       "      <td>1.073683</td>\n",
       "      <td>-1.235063</td>\n",
       "      <td>1.686130</td>\n",
       "      <td>-0.908217</td>\n",
       "      <td>1.506438</td>\n",
       "      <td>...</td>\n",
       "      <td>0.958136</td>\n",
       "      <td>-0.152647</td>\n",
       "      <td>-2.976328</td>\n",
       "      <td>0.82208</td>\n",
       "      <td>1.207694</td>\n",
       "      <td>2.091596</td>\n",
       "      <td>0.366975</td>\n",
       "      <td>0.0</td>\n",
       "      <td>-1.569369</td>\n",
       "      <td>-0.598455</td>\n",
       "    </tr>\n",
       "    <tr>\n",
       "      <th>1</th>\n",
       "      <td>-0.367676</td>\n",
       "      <td>3.301264</td>\n",
       "      <td>-1.118645</td>\n",
       "      <td>1.616807</td>\n",
       "      <td>-0.520411</td>\n",
       "      <td>1.057097</td>\n",
       "      <td>-1.235063</td>\n",
       "      <td>1.704566</td>\n",
       "      <td>-0.908217</td>\n",
       "      <td>1.604528</td>\n",
       "      <td>...</td>\n",
       "      <td>0.965363</td>\n",
       "      <td>-0.174588</td>\n",
       "      <td>-2.962813</td>\n",
       "      <td>0.82208</td>\n",
       "      <td>1.071703</td>\n",
       "      <td>1.766584</td>\n",
       "      <td>0.343135</td>\n",
       "      <td>0.0</td>\n",
       "      <td>-1.569369</td>\n",
       "      <td>-0.598455</td>\n",
       "    </tr>\n",
       "    <tr>\n",
       "      <th>2</th>\n",
       "      <td>-0.465215</td>\n",
       "      <td>3.301264</td>\n",
       "      <td>-1.118645</td>\n",
       "      <td>1.517959</td>\n",
       "      <td>-0.520411</td>\n",
       "      <td>1.033550</td>\n",
       "      <td>-1.235063</td>\n",
       "      <td>1.748608</td>\n",
       "      <td>-0.944115</td>\n",
       "      <td>1.580918</td>\n",
       "      <td>...</td>\n",
       "      <td>0.950910</td>\n",
       "      <td>-0.196529</td>\n",
       "      <td>-2.949298</td>\n",
       "      <td>0.82208</td>\n",
       "      <td>0.935713</td>\n",
       "      <td>1.441572</td>\n",
       "      <td>0.319294</td>\n",
       "      <td>0.0</td>\n",
       "      <td>-1.569369</td>\n",
       "      <td>-0.598455</td>\n",
       "    </tr>\n",
       "    <tr>\n",
       "      <th>3</th>\n",
       "      <td>-0.465215</td>\n",
       "      <td>4.561378</td>\n",
       "      <td>-1.118645</td>\n",
       "      <td>1.459321</td>\n",
       "      <td>-0.520411</td>\n",
       "      <td>1.024540</td>\n",
       "      <td>-1.235063</td>\n",
       "      <td>1.769092</td>\n",
       "      <td>-0.962063</td>\n",
       "      <td>1.542526</td>\n",
       "      <td>...</td>\n",
       "      <td>0.926821</td>\n",
       "      <td>-0.218470</td>\n",
       "      <td>-2.935783</td>\n",
       "      <td>0.82208</td>\n",
       "      <td>0.799723</td>\n",
       "      <td>1.116559</td>\n",
       "      <td>0.295454</td>\n",
       "      <td>0.0</td>\n",
       "      <td>-1.569369</td>\n",
       "      <td>-0.598455</td>\n",
       "    </tr>\n",
       "    <tr>\n",
       "      <th>4</th>\n",
       "      <td>-0.367676</td>\n",
       "      <td>4.561378</td>\n",
       "      <td>-1.118645</td>\n",
       "      <td>1.526336</td>\n",
       "      <td>-0.520411</td>\n",
       "      <td>1.009797</td>\n",
       "      <td>-1.235063</td>\n",
       "      <td>1.769092</td>\n",
       "      <td>-0.962063</td>\n",
       "      <td>1.497991</td>\n",
       "      <td>...</td>\n",
       "      <td>0.926821</td>\n",
       "      <td>-0.240411</td>\n",
       "      <td>-2.922268</td>\n",
       "      <td>0.82208</td>\n",
       "      <td>0.663733</td>\n",
       "      <td>0.791547</td>\n",
       "      <td>0.271613</td>\n",
       "      <td>0.0</td>\n",
       "      <td>-1.569369</td>\n",
       "      <td>-0.598455</td>\n",
       "    </tr>\n",
       "  </tbody>\n",
       "</table>\n",
       "<p>5 rows × 29 columns</p>\n",
       "</div>"
      ],
      "text/plain": [
       "   Appliances    lights        T1      RH_1        T2      RH_2        T3  \\\n",
       "0   -0.367676  3.301264 -1.118645  1.843821 -0.520411  1.073683 -1.235063   \n",
       "1   -0.367676  3.301264 -1.118645  1.616807 -0.520411  1.057097 -1.235063   \n",
       "2   -0.465215  3.301264 -1.118645  1.517959 -0.520411  1.033550 -1.235063   \n",
       "3   -0.465215  4.561378 -1.118645  1.459321 -0.520411  1.024540 -1.235063   \n",
       "4   -0.367676  4.561378 -1.118645  1.526336 -0.520411  1.009797 -1.235063   \n",
       "\n",
       "       RH_3        T4      RH_4  ...      RH_9     T_out  Press_mm_hg  \\\n",
       "0  1.686130 -0.908217  1.506438  ...  0.958136 -0.152647    -2.976328   \n",
       "1  1.704566 -0.908217  1.604528  ...  0.965363 -0.174588    -2.962813   \n",
       "2  1.748608 -0.944115  1.580918  ...  0.950910 -0.196529    -2.949298   \n",
       "3  1.769092 -0.962063  1.542526  ...  0.926821 -0.218470    -2.935783   \n",
       "4  1.769092 -0.962063  1.497991  ...  0.926821 -0.240411    -2.922268   \n",
       "\n",
       "    RH_out  Windspeed  Visibility  Tdewpoint  year     month       day  \n",
       "0  0.82208   1.207694    2.091596   0.366975   0.0 -1.569369 -0.598455  \n",
       "1  0.82208   1.071703    1.766584   0.343135   0.0 -1.569369 -0.598455  \n",
       "2  0.82208   0.935713    1.441572   0.319294   0.0 -1.569369 -0.598455  \n",
       "3  0.82208   0.799723    1.116559   0.295454   0.0 -1.569369 -0.598455  \n",
       "4  0.82208   0.663733    0.791547   0.271613   0.0 -1.569369 -0.598455  \n",
       "\n",
       "[5 rows x 29 columns]"
      ]
     },
     "execution_count": 56,
     "metadata": {},
     "output_type": "execute_result"
    }
   ],
   "source": [
    "scaled_data.head()"
   ]
  },
  {
   "cell_type": "code",
   "execution_count": 57,
   "metadata": {},
   "outputs": [],
   "source": [
    "scaled_data['group'] = etiquetas"
   ]
  },
  {
   "cell_type": "code",
   "execution_count": 58,
   "metadata": {},
   "outputs": [
    {
     "data": {
      "text/html": [
       "<div>\n",
       "<style scoped>\n",
       "    .dataframe tbody tr th:only-of-type {\n",
       "        vertical-align: middle;\n",
       "    }\n",
       "\n",
       "    .dataframe tbody tr th {\n",
       "        vertical-align: top;\n",
       "    }\n",
       "\n",
       "    .dataframe thead th {\n",
       "        text-align: right;\n",
       "    }\n",
       "</style>\n",
       "<table border=\"1\" class=\"dataframe\">\n",
       "  <thead>\n",
       "    <tr style=\"text-align: right;\">\n",
       "      <th></th>\n",
       "      <th>group</th>\n",
       "      <th>count</th>\n",
       "    </tr>\n",
       "  </thead>\n",
       "  <tbody>\n",
       "    <tr>\n",
       "      <th>0</th>\n",
       "      <td>0</td>\n",
       "      <td>2890</td>\n",
       "    </tr>\n",
       "    <tr>\n",
       "      <th>1</th>\n",
       "      <td>1</td>\n",
       "      <td>3950</td>\n",
       "    </tr>\n",
       "    <tr>\n",
       "      <th>2</th>\n",
       "      <td>2</td>\n",
       "      <td>1390</td>\n",
       "    </tr>\n",
       "    <tr>\n",
       "      <th>3</th>\n",
       "      <td>3</td>\n",
       "      <td>3866</td>\n",
       "    </tr>\n",
       "    <tr>\n",
       "      <th>4</th>\n",
       "      <td>4</td>\n",
       "      <td>1406</td>\n",
       "    </tr>\n",
       "    <tr>\n",
       "      <th>5</th>\n",
       "      <td>5</td>\n",
       "      <td>3768</td>\n",
       "    </tr>\n",
       "    <tr>\n",
       "      <th>6</th>\n",
       "      <td>6</td>\n",
       "      <td>2465</td>\n",
       "    </tr>\n",
       "  </tbody>\n",
       "</table>\n",
       "</div>"
      ],
      "text/plain": [
       "   group  count\n",
       "0      0   2890\n",
       "1      1   3950\n",
       "2      2   1390\n",
       "3      3   3866\n",
       "4      4   1406\n",
       "5      5   3768\n",
       "6      6   2465"
      ]
     },
     "execution_count": 58,
     "metadata": {},
     "output_type": "execute_result"
    }
   ],
   "source": [
    "scaled_data.groupby(['group'], as_index=False)['lights']\\\n",
    ".count()\\\n",
    ".rename(columns={'lights': 'count'})"
   ]
  },
  {
   "cell_type": "markdown",
   "metadata": {},
   "source": [
    "b. ¿Cuáles son las características principales de cada grupo encontrado en la opción seleccionada en la pregunta 4? "
   ]
  },
  {
   "cell_type": "code",
   "execution_count": 59,
   "metadata": {},
   "outputs": [],
   "source": [
    "energy['group'] = etiquetas"
   ]
  },
  {
   "cell_type": "code",
   "execution_count": 60,
   "metadata": {},
   "outputs": [
    {
     "data": {
      "image/png": "[encoded data removed]",
      "text/plain": [
       "<Figure size 432x288 with 1 Axes>"
      ]
     },
     "metadata": {
      "needs_background": "light"
     },
     "output_type": "display_data"
    },
    {
     "data": {
      "image/png": "[encoded data removed]",
      "text/plain": [
       "<Figure size 432x288 with 1 Axes>"
      ]
     },
     "metadata": {
      "needs_background": "light"
     },
     "output_type": "display_data"
    },
    {
     "data": {
      "image/png": "[encoded data removed]",
      "text/plain": [
       "<Figure size 432x288 with 1 Axes>"
      ]
     },
     "metadata": {
      "needs_background": "light"
     },
     "output_type": "display_data"
    },
    {
     "data": {
      "image/png": "[encoded data removed]",
      "text/plain": [
       "<Figure size 432x288 with 1 Axes>"
      ]
     },
     "metadata": {
      "needs_background": "light"
     },
     "output_type": "display_data"
    },
    {
     "data": {
      "image/png": "[encoded data removed]",
      "text/plain": [
       "<Figure size 432x288 with 1 Axes>"
      ]
     },
     "metadata": {
      "needs_background": "light"
     },
     "output_type": "display_data"
    },
    {
     "data": {
      "image/png": "[encoded data removed]",
      "text/plain": [
       "<Figure size 432x288 with 1 Axes>"
      ]
     },
     "metadata": {
      "needs_background": "light"
     },
     "output_type": "display_data"
    },
    {
     "data": {
      "image/png": "[encoded data removed]",
      "text/plain": [
       "<Figure size 432x288 with 1 Axes>"
      ]
     },
     "metadata": {
      "needs_background": "light"
     },
     "output_type": "display_data"
    },
    {
     "data": {
      "image/png": "[encoded data removed]",
      "text/plain": [
       "<Figure size 432x288 with 1 Axes>"
      ]
     },
     "metadata": {
      "needs_background": "light"
     },
     "output_type": "display_data"
    },
    {
     "data": {
      "image/png": "[encoded data removed]",
      "text/plain": [
       "<Figure size 432x288 with 1 Axes>"
      ]
     },
     "metadata": {
      "needs_background": "light"
     },
     "output_type": "display_data"
    },
    {
     "data": {
      "image/png": "[encoded data removed]",
      "text/plain": [
       "<Figure size 432x288 with 1 Axes>"
      ]
     },
     "metadata": {
      "needs_background": "light"
     },
     "output_type": "display_data"
    },
    {
     "data": {
      "image/png": "[encoded data removed]",
      "text/plain": [
       "<Figure size 432x288 with 1 Axes>"
      ]
     },
     "metadata": {
      "needs_background": "light"
     },
     "output_type": "display_data"
    },
    {
     "data": {
      "image/png": "[encoded data removed]",
      "text/plain": [
       "<Figure size 432x288 with 1 Axes>"
      ]
     },
     "metadata": {
      "needs_background": "light"
     },
     "output_type": "display_data"
    },
    {
     "data": {
      "image/png": "[encoded data removed]",
      "text/plain": [
       "<Figure size 432x288 with 1 Axes>"
      ]
     },
     "metadata": {
      "needs_background": "light"
     },
     "output_type": "display_data"
    },
    {
     "data": {
      "image/png": "[encoded data removed]",
      "text/plain": [
       "<Figure size 432x288 with 1 Axes>"
      ]
     },
     "metadata": {
      "needs_background": "light"
     },
     "output_type": "display_data"
    },
    {
     "data": {
      "image/png": "[encoded data removed]",
      "text/plain": [
       "<Figure size 432x288 with 1 Axes>"
      ]
     },
     "metadata": {
      "needs_background": "light"
     },
     "output_type": "display_data"
    },
    {
     "data": {
      "image/png": "[encoded data removed]",
      "text/plain": [
       "<Figure size 432x288 with 1 Axes>"
      ]
     },
     "metadata": {
      "needs_background": "light"
     },
     "output_type": "display_data"
    },
    {
     "data": {
      "image/png": "[encoded data removed]",
      "text/plain": [
       "<Figure size 432x288 with 1 Axes>"
      ]
     },
     "metadata": {
      "needs_background": "light"
     },
     "output_type": "display_data"
    },
    {
     "data": {
      "image/png": "[encoded data removed]",
      "text/plain": [
       "<Figure size 432x288 with 1 Axes>"
      ]
     },
     "metadata": {
      "needs_background": "light"
     },
     "output_type": "display_data"
    },
    {
     "data": {
      "image/png": "[encoded data removed]",
      "text/plain": [
       "<Figure size 432x288 with 1 Axes>"
      ]
     },
     "metadata": {
      "needs_background": "light"
     },
     "output_type": "display_data"
    },
    {
     "data": {
      "image/png": "[encoded data removed]",
      "text/plain": [
       "<Figure size 432x288 with 1 Axes>"
      ]
     },
     "metadata": {
      "needs_background": "light"
     },
     "output_type": "display_data"
    },
    {
     "data": {
      "image/png": "[encoded data removed]",
      "text/plain": [
       "<Figure size 432x288 with 1 Axes>"
      ]
     },
     "metadata": {
      "needs_background": "light"
     },
     "output_type": "display_data"
    },
    {
     "data": {
      "image/png": "[encoded data removed]",
      "text/plain": [
       "<Figure size 432x288 with 1 Axes>"
      ]
     },
     "metadata": {
      "needs_background": "light"
     },
     "output_type": "display_data"
    },
    {
     "data": {
      "image/png": "[encoded data removed]",
      "text/plain": [
       "<Figure size 432x288 with 1 Axes>"
      ]
     },
     "metadata": {
      "needs_background": "light"
     },
     "output_type": "display_data"
    },
    {
     "data": {
      "image/png": "[encoded data removed]",
      "text/plain": [
       "<Figure size 432x288 with 1 Axes>"
      ]
     },
     "metadata": {
      "needs_background": "light"
     },
     "output_type": "display_data"
    },
    {
     "data": {
      "image/png": "[encoded data removed]",
      "text/plain": [
       "<Figure size 432x288 with 1 Axes>"
      ]
     },
     "metadata": {
      "needs_background": "light"
     },
     "output_type": "display_data"
    },
    {
     "data": {
      "image/png": "[encoded data removed]",
      "text/plain": [
       "<Figure size 432x288 with 1 Axes>"
      ]
     },
     "metadata": {
      "needs_background": "light"
     },
     "output_type": "display_data"
    },
    {
     "data": {
      "image/png": "[encoded data removed]",
      "text/plain": [
       "<Figure size 432x288 with 1 Axes>"
      ]
     },
     "metadata": {
      "needs_background": "light"
     },
     "output_type": "display_data"
    },
    {
     "data": {
      "image/png": "[encoded data removed]",
      "text/plain": [
       "<Figure size 432x288 with 1 Axes>"
      ]
     },
     "metadata": {
      "needs_background": "light"
     },
     "output_type": "display_data"
    },
    {
     "data": {
      "image/png": "[encoded data removed]",
      "text/plain": [
       "<Figure size 432x288 with 1 Axes>"
      ]
     },
     "metadata": {
      "needs_background": "light"
     },
     "output_type": "display_data"
    },
    {
     "data": {
      "text/plain": [
       "<Figure size 432x288 with 0 Axes>"
      ]
     },
     "metadata": {},
     "output_type": "display_data"
    }
   ],
   "source": [
    "for col in energy.columns.values:\n",
    "    plt.clf()\n",
    "    if col != 'group':\n",
    "        a = sns.boxplot(x=\"group\", y=col, data=energy)\n",
    "        plt.show(a)"
   ]
  },
  {
   "cell_type": "markdown",
   "metadata": {},
   "source": [
    "**Características**\n",
    "\n",
    "+ Grupo 0:\n",
    "    + Días del mes: Se enfoca en los días que abarcan del 5 al 16 -primera quincena del mes-.\n",
    "    + Mes: Se enfoca en los primeros días de febrero.\n",
    "    + Temperatura en cuarto de la cocina: Se enfoca en valores entre 21 y 22 grados.\n",
    "    + Humedad del a cocina: Se enfoca en los rangos de valor entre el 42.5 y 45% de humedad.  \n",
    "    + Temperatura de la sala: Se enfoca en los rangos de valor entre 21.8 y 22 grados.\n",
    "    + Humedad de la sala: Se enfoca en los rangos de valor entre el 42.5 y 45% de humedad. \n",
    "    + Temperatura del cuarto de lavado: Se enfoca en los rangos de valor entre 19 y 21 grados.\n",
    "    + Humedad del cuarto de lavado: Se enfoca en los rangos de valor entre el 42.5 y 45.3% de humedad.\n",
    "    + Temperatura de la oficina: Se enfoca en los rangos de valor entre 18.5 y 19.5 grados.\n",
    "    + Humedad de la oficina: Se enfoca en los rangos de valor entre el 51 y 60% de humedad.\n",
    "    + Temperatura del baño: Se enfoca en los rangos de valor entre 4.5 y 10 grados.\n",
    "    + Humedad del baño: Se enfoca en los rangos de valor entre el 80.5 y 90.5% de humedad.\n",
    "\n",
    "+ Grupo 1:\n",
    "    + Días del mes: Se enfoca en los días que abarcan del 11 al 23.\n",
    "    + Mes: Se enfoca en el mes de mayo.\n",
    "    + Temperatura en cuarto de la cocina: Se enfoca en valores entre 24 y 25 grados.\n",
    "    + Humedad del a cocina: Se enfoca en los rangos de valor entre el 45 y 47% de humedad.  \n",
    "    + Temperatura de la sala: Se enfoca en los rangos de valor entre 25.8 y 27 grados.\n",
    "    + Humedad de la sala: Se enfoca en los rangos de valor entre el 41.5 y 44.8% de humedad. \n",
    "    + Temperatura del cuarto de lavado: Se enfoca en los rangos de valor entre 24 y 25.5 grados.\n",
    "    + Humedad del cuarto de lavado: Se enfoca en los rangos de valor entre el 44.5 y 45.2% de humedad.\n",
    "    + Temperatura de la oficina: Se enfoca en los rangos de valor entre 23 y 24 grados.\n",
    "    + Humedad de la oficina: Se enfoca en los rangos de valor entre el 50 y 55% de humedad.\n",
    "    + Temperatura del baño: Se enfoca en los rangos de valor entre 14.8 y 21.5 grados.\n",
    "    + Humedad del baño: Se enfoca en los rangos de valor entre el 10 y 55% de humedad.\n",
    "\n",
    "+ Grupo 2:\n",
    "    + Días del mes: Se enfoca en los días que abarcan del 16 al 26 -segunda quincena-.\n",
    "    + Mes: Se enfoca en los primeros días del mes de marzo.\n",
    "    + Temperatura en cuarto de la cocina: Se enfoca en valores entre 21 y 22 grados.\n",
    "    + Humedad del a cocina: Se enfoca en los rangos de valor entre el 35.5 y 38% de humedad.  \n",
    "    + Temperatura de la sala: Se enfoca en los rangos de valor entre 21.8 y 22.4 grados.\n",
    "    + Humedad de la sala: Se enfoca en los rangos de valor entre el 35.3 y 37 de humedad. \n",
    "    + Temperatura del cuarto de lavado: Se enfoca en los rangos de valor entre 20.5 y 21.5 grados.\n",
    "    + Humedad del cuarto de lavado: Se enfoca en los rangos de valor entre el 34.5 y 35.5% de humedad.\n",
    "    + Temperatura de la oficina: Se enfoca en los rangos de valor entre 18.3 y 20 grados.\n",
    "    + Humedad de la oficina: Se enfoca en los rangos de valor entre el 45 y 49% de humedad.\n",
    "    + Temperatura del baño: Se enfoca en los rangos de valor entre 4.5 y 8.5 grados.\n",
    "    + Humedad del baño: Se enfoca en los rangos de valor entre el 32 y 57% de humedad.\n",
    "\n",
    "+ Grupo 3:\n",
    "    + Días del mes: Se enfoca en los días que abarcan del 24 al 28 -fin de mes-.\n",
    "    + Mes: Se enfoca en el mes de enero.\n",
    "    + Temperatura en cuarto de la cocina: Se enfoca en valores entre 19 y 20 grados.\n",
    "    + Humedad del a cocina: Se enfoca en los rangos de valor entre el 44 y 45% de humedad.  \n",
    "    + Temperatura de la sala: Se enfoca en los rangos de valor entre 19 y 20.5 grados.\n",
    "    + Humedad de la sala: Se enfoca en los rangos de valor entre el 44 y 45% de humedad. \n",
    "    + Temperatura del cuarto de lavado: Se enfoca en los rangos de valor entre 17 y 18.3 grados.\n",
    "    + Humedad del cuarto de lavado: Se enfoca en los rangos de valor entre el 44 y 45.5% de humedad.\n",
    "    + Temperatura de la oficina: Se enfoca en los rangos de valor entre 17 y 19 grados.\n",
    "    + Humedad de la oficina: Se enfoca en los rangos de valor entre el 53 y 56% de humedad.\n",
    "    + Temperatura del baño: Se enfoca en los rangos de valor entre 6.5 y 9.5 grados.\n",
    "    + Humedad del baño: Se enfoca en los rangos de valor entre el 90 y 100% de humedad.\n",
    "    \n",
    "+ Grupo 4: \n",
    "    + Días del mes: Se enfoca en los días que abarcan del 9 al 18.\n",
    "    + Mes: Se enfoca en el mes de abril.\n",
    "    + Temperatura en cuarto de la cocina: Se enfoca en valores entre 22.5 y 24 grados.\n",
    "    + Humedad del a cocina: Se enfoca en los rangos de valor entre el 37 y 40% de humedad.  \n",
    "    + Temperatura de la sala: Se enfoca en los rangos de valor entre 23.5 y 24.3 grados.\n",
    "    + Humedad de la sala: Se enfoca en los rangos de valor entre el 35.5 y 37% de humedad. \n",
    "    + Temperatura del cuarto de lavado: Se enfoca en los rangos de valor entre 23 y 24 grados.\n",
    "    + Humedad del cuarto de lavado: Se enfoca en los rangos de valor entre el 34.7 y 47% de humedad.\n",
    "    + Temperatura de la oficina: Se enfoca en los rangos de valor entre 20.5 y 22.5 grados.\n",
    "    + Humedad de la oficina: Se enfoca en los rangos de valor entre el 43 y 48% de humedad.\n",
    "    + Temperatura del baño: Se enfoca en los rangos de valor entre 14 y 19 grados.\n",
    "    + Humedad del baño: Se enfoca en los rangos de valor entre el 2 y 8% de humedad.\n",
    "\n",
    "+ Grupo 5:\n",
    "    + Días del mes: Se enfoca en los días que abarcan del 8 al 19.\n",
    "    + Mes: Se enfoca en el mes de febrero.\n",
    "    + Temperatura en cuarto de la cocina: Se enfoca en valores entre 19 y 21 grados.\n",
    "    + Humedad del a cocina: Se enfoca en los rangos de valor entre el 37 y 38% de humedad.  \n",
    "    + Temperatura de la sala: Se enfoca en los rangos de valor entre 19.8 y 20.5 grados.\n",
    "    + Humedad de la sala: Se enfoca en los rangos de valor entre el 37 y 39% de humedad. \n",
    "    + Temperatura del cuarto de lavado: Se enfoca en los rangos de valor entre 18.5 y 20 grados.\n",
    "    + Humedad del cuarto de lavado: Se enfoca en los rangos de valor entre el 35.5 y 38.5% de humedad.\n",
    "    + Temperatura de la oficina: Se enfoca en los rangos de valor entre 17 y 18.3 grados.\n",
    "    + Humedad de la oficina: Se enfoca en los rangos de valor entre el 48 y 53% de humedad.\n",
    "    + Temperatura del baño: Se enfoca en los rangos de valor entre 1 y 4 grados.\n",
    "    + Humedad del baño: Se enfoca en los rangos de valor entre el 75 y 87% de humedad.\n",
    "\n",
    "+ Grupo 6:\n",
    "    + Días del mes: Se enfoca en los días que abarcan del 8 al 24.\n",
    "    + Mes: Se enfoca en el mes de marzo.\n",
    "    + Temperatura en cuarto de la cocina: Se enfoca en valores entre 21 y 22 grados.\n",
    "    + Humedad del a cocina: Se enfoca en los rangos de valor entre el 43 y 45% de humedad.  \n",
    "    + Temperatura de la sala: Se enfoca en los rangos de valor entre 22.5 y 23.8 grados.\n",
    "    + Humedad de la sala: Se enfoca en los rangos de valor entre el 38 y 39% de humedad. \n",
    "    + Temperatura del cuarto de lavado: Se enfoca en los rangos de valor entre 21 y 22 grados.\n",
    "    + Humedad del cuarto de lavado: Se enfoca en los rangos de valor entre el 39 y 40% de humedad.\n",
    "    + Temperatura de la oficina: Se enfoca en los rangos de valor entre 20 y 20.8 grados.\n",
    "    + Humedad de la oficina: Se enfoca en los rangos de valor entre el 49 y 52% de humedad.\n",
    "    + Temperatura del baño: Se enfoca en los rangos de valor entre 8 y 11.5 grados.\n",
    "    + Humedad del baño: Se enfoca en los rangos de valor entre el 38 y 57% de humedad."
   ]
  },
  {
   "cell_type": "markdown",
   "metadata": {},
   "source": [
    "7. Genera un scatterplot utilizando únicamente las variables T1 y T2 ocupando un color diferente para cada grupo"
   ]
  },
  {
   "cell_type": "code",
   "execution_count": 76,
   "metadata": {},
   "outputs": [],
   "source": [
    "energy['group'] = energy.group.astype('category')"
   ]
  },
  {
   "cell_type": "code",
   "execution_count": 77,
   "metadata": {},
   "outputs": [
    {
     "data": {
      "text/plain": [
       "[0, 2, 3, 1, 5, 6, 4]\n",
       "Categories (7, object): [0, 2, 3, 1, 5, 6, 4]"
      ]
     },
     "execution_count": 77,
     "metadata": {},
     "output_type": "execute_result"
    }
   ],
   "source": [
    "energy.group.unique()"
   ]
  },
  {
   "cell_type": "code",
   "execution_count": 81,
   "metadata": {},
   "outputs": [
    {
     "data": {
      "text/plain": [
       "<AxesSubplot:xlabel='T1', ylabel='T2'>"
      ]
     },
     "execution_count": 81,
     "metadata": {},
     "output_type": "execute_result"
    },
    {
     "data": {
      "image/png": "[encoded data removed]",
      "text/plain": [
       "<Figure size 432x288 with 1 Axes>"
      ]
     },
     "metadata": {
      "needs_background": "light"
     },
     "output_type": "display_data"
    }
   ],
   "source": [
    "sns.scatterplot(x=\"T1\", y=\"T2\", data=energy, hue=\"group\", alpha=0.1)"
   ]
  },
  {
   "cell_type": "code",
   "execution_count": null,
   "metadata": {},
   "outputs": [],
   "source": []
  }
 ],
 "metadata": {
  "kernelspec": {
   "display_name": "iexe",
   "language": "python",
   "name": "iexe"
  },
  "language_info": {
   "codemirror_mode": {
    "name": "ipython",
    "version": 3
   },
   "file_extension": ".py",
   "mimetype": "text/x-python",
   "name": "python",
   "nbconvert_exporter": "python",
   "pygments_lexer": "ipython3",
   "version": "3.7.4"
  }
 },
 "nbformat": 4,
 "nbformat_minor": 4
}
