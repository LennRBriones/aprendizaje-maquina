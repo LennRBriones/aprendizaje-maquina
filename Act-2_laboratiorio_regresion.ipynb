{
 "cells": [
  {
   "cell_type": "code",
   "execution_count": 1,
   "metadata": {},
   "outputs": [],
   "source": [
    "import pandas as pd\n",
    "import numpy as np\n",
    "\n",
    "from sklearn.linear_model import LinearRegression"
   ]
  },
  {
   "cell_type": "code",
   "execution_count": 2,
   "metadata": {},
   "outputs": [],
   "source": [
    "np.random.seed(200831)"
   ]
  },
  {
   "cell_type": "code",
   "execution_count": 3,
   "metadata": {},
   "outputs": [],
   "source": [
    "appliances = pd.read_csv(\"../../../datasets/energydata_complete.csv\")"
   ]
  },
  {
   "cell_type": "code",
   "execution_count": 4,
   "metadata": {},
   "outputs": [
    {
     "data": {
      "text/html": [
       "<div>\n",
       "<style scoped>\n",
       "    .dataframe tbody tr th:only-of-type {\n",
       "        vertical-align: middle;\n",
       "    }\n",
       "\n",
       "    .dataframe tbody tr th {\n",
       "        vertical-align: top;\n",
       "    }\n",
       "\n",
       "    .dataframe thead th {\n",
       "        text-align: right;\n",
       "    }\n",
       "</style>\n",
       "<table border=\"1\" class=\"dataframe\">\n",
       "  <thead>\n",
       "    <tr style=\"text-align: right;\">\n",
       "      <th></th>\n",
       "      <th>date</th>\n",
       "      <th>Appliances</th>\n",
       "      <th>lights</th>\n",
       "      <th>T1</th>\n",
       "      <th>RH_1</th>\n",
       "      <th>T2</th>\n",
       "      <th>RH_2</th>\n",
       "      <th>T3</th>\n",
       "      <th>RH_3</th>\n",
       "      <th>T4</th>\n",
       "      <th>...</th>\n",
       "      <th>T9</th>\n",
       "      <th>RH_9</th>\n",
       "      <th>T_out</th>\n",
       "      <th>Press_mm_hg</th>\n",
       "      <th>RH_out</th>\n",
       "      <th>Windspeed</th>\n",
       "      <th>Visibility</th>\n",
       "      <th>Tdewpoint</th>\n",
       "      <th>rv1</th>\n",
       "      <th>rv2</th>\n",
       "    </tr>\n",
       "  </thead>\n",
       "  <tbody>\n",
       "    <tr>\n",
       "      <th>0</th>\n",
       "      <td>2016-01-11 17:00:00</td>\n",
       "      <td>60</td>\n",
       "      <td>30</td>\n",
       "      <td>19.89</td>\n",
       "      <td>47.596667</td>\n",
       "      <td>19.2</td>\n",
       "      <td>44.790000</td>\n",
       "      <td>19.79</td>\n",
       "      <td>44.730000</td>\n",
       "      <td>19.000000</td>\n",
       "      <td>...</td>\n",
       "      <td>17.033333</td>\n",
       "      <td>45.53</td>\n",
       "      <td>6.600000</td>\n",
       "      <td>733.5</td>\n",
       "      <td>92.0</td>\n",
       "      <td>7.000000</td>\n",
       "      <td>63.000000</td>\n",
       "      <td>5.3</td>\n",
       "      <td>13.275433</td>\n",
       "      <td>13.275433</td>\n",
       "    </tr>\n",
       "    <tr>\n",
       "      <th>1</th>\n",
       "      <td>2016-01-11 17:10:00</td>\n",
       "      <td>60</td>\n",
       "      <td>30</td>\n",
       "      <td>19.89</td>\n",
       "      <td>46.693333</td>\n",
       "      <td>19.2</td>\n",
       "      <td>44.722500</td>\n",
       "      <td>19.79</td>\n",
       "      <td>44.790000</td>\n",
       "      <td>19.000000</td>\n",
       "      <td>...</td>\n",
       "      <td>17.066667</td>\n",
       "      <td>45.56</td>\n",
       "      <td>6.483333</td>\n",
       "      <td>733.6</td>\n",
       "      <td>92.0</td>\n",
       "      <td>6.666667</td>\n",
       "      <td>59.166667</td>\n",
       "      <td>5.2</td>\n",
       "      <td>18.606195</td>\n",
       "      <td>18.606195</td>\n",
       "    </tr>\n",
       "    <tr>\n",
       "      <th>2</th>\n",
       "      <td>2016-01-11 17:20:00</td>\n",
       "      <td>50</td>\n",
       "      <td>30</td>\n",
       "      <td>19.89</td>\n",
       "      <td>46.300000</td>\n",
       "      <td>19.2</td>\n",
       "      <td>44.626667</td>\n",
       "      <td>19.79</td>\n",
       "      <td>44.933333</td>\n",
       "      <td>18.926667</td>\n",
       "      <td>...</td>\n",
       "      <td>17.000000</td>\n",
       "      <td>45.50</td>\n",
       "      <td>6.366667</td>\n",
       "      <td>733.7</td>\n",
       "      <td>92.0</td>\n",
       "      <td>6.333333</td>\n",
       "      <td>55.333333</td>\n",
       "      <td>5.1</td>\n",
       "      <td>28.642668</td>\n",
       "      <td>28.642668</td>\n",
       "    </tr>\n",
       "    <tr>\n",
       "      <th>3</th>\n",
       "      <td>2016-01-11 17:30:00</td>\n",
       "      <td>50</td>\n",
       "      <td>40</td>\n",
       "      <td>19.89</td>\n",
       "      <td>46.066667</td>\n",
       "      <td>19.2</td>\n",
       "      <td>44.590000</td>\n",
       "      <td>19.79</td>\n",
       "      <td>45.000000</td>\n",
       "      <td>18.890000</td>\n",
       "      <td>...</td>\n",
       "      <td>17.000000</td>\n",
       "      <td>45.40</td>\n",
       "      <td>6.250000</td>\n",
       "      <td>733.8</td>\n",
       "      <td>92.0</td>\n",
       "      <td>6.000000</td>\n",
       "      <td>51.500000</td>\n",
       "      <td>5.0</td>\n",
       "      <td>45.410389</td>\n",
       "      <td>45.410389</td>\n",
       "    </tr>\n",
       "    <tr>\n",
       "      <th>4</th>\n",
       "      <td>2016-01-11 17:40:00</td>\n",
       "      <td>60</td>\n",
       "      <td>40</td>\n",
       "      <td>19.89</td>\n",
       "      <td>46.333333</td>\n",
       "      <td>19.2</td>\n",
       "      <td>44.530000</td>\n",
       "      <td>19.79</td>\n",
       "      <td>45.000000</td>\n",
       "      <td>18.890000</td>\n",
       "      <td>...</td>\n",
       "      <td>17.000000</td>\n",
       "      <td>45.40</td>\n",
       "      <td>6.133333</td>\n",
       "      <td>733.9</td>\n",
       "      <td>92.0</td>\n",
       "      <td>5.666667</td>\n",
       "      <td>47.666667</td>\n",
       "      <td>4.9</td>\n",
       "      <td>10.084097</td>\n",
       "      <td>10.084097</td>\n",
       "    </tr>\n",
       "  </tbody>\n",
       "</table>\n",
       "<p>5 rows × 29 columns</p>\n",
       "</div>"
      ],
      "text/plain": [
       "                  date  Appliances  lights     T1       RH_1    T2       RH_2  \\\n",
       "0  2016-01-11 17:00:00          60      30  19.89  47.596667  19.2  44.790000   \n",
       "1  2016-01-11 17:10:00          60      30  19.89  46.693333  19.2  44.722500   \n",
       "2  2016-01-11 17:20:00          50      30  19.89  46.300000  19.2  44.626667   \n",
       "3  2016-01-11 17:30:00          50      40  19.89  46.066667  19.2  44.590000   \n",
       "4  2016-01-11 17:40:00          60      40  19.89  46.333333  19.2  44.530000   \n",
       "\n",
       "      T3       RH_3         T4  ...         T9   RH_9     T_out  Press_mm_hg  \\\n",
       "0  19.79  44.730000  19.000000  ...  17.033333  45.53  6.600000        733.5   \n",
       "1  19.79  44.790000  19.000000  ...  17.066667  45.56  6.483333        733.6   \n",
       "2  19.79  44.933333  18.926667  ...  17.000000  45.50  6.366667        733.7   \n",
       "3  19.79  45.000000  18.890000  ...  17.000000  45.40  6.250000        733.8   \n",
       "4  19.79  45.000000  18.890000  ...  17.000000  45.40  6.133333        733.9   \n",
       "\n",
       "   RH_out  Windspeed  Visibility  Tdewpoint        rv1        rv2  \n",
       "0    92.0   7.000000   63.000000        5.3  13.275433  13.275433  \n",
       "1    92.0   6.666667   59.166667        5.2  18.606195  18.606195  \n",
       "2    92.0   6.333333   55.333333        5.1  28.642668  28.642668  \n",
       "3    92.0   6.000000   51.500000        5.0  45.410389  45.410389  \n",
       "4    92.0   5.666667   47.666667        4.9  10.084097  10.084097  \n",
       "\n",
       "[5 rows x 29 columns]"
      ]
     },
     "execution_count": 4,
     "metadata": {},
     "output_type": "execute_result"
    }
   ],
   "source": [
    "appliances.head()"
   ]
  },
  {
   "cell_type": "code",
   "execution_count": 5,
   "metadata": {},
   "outputs": [],
   "source": [
    "appliances.rename(columns={column: column.lower() for column in appliances.columns.values}, \n",
    "                 inplace=True)"
   ]
  },
  {
   "cell_type": "code",
   "execution_count": 6,
   "metadata": {},
   "outputs": [
    {
     "data": {
      "text/html": [
       "<div>\n",
       "<style scoped>\n",
       "    .dataframe tbody tr th:only-of-type {\n",
       "        vertical-align: middle;\n",
       "    }\n",
       "\n",
       "    .dataframe tbody tr th {\n",
       "        vertical-align: top;\n",
       "    }\n",
       "\n",
       "    .dataframe thead th {\n",
       "        text-align: right;\n",
       "    }\n",
       "</style>\n",
       "<table border=\"1\" class=\"dataframe\">\n",
       "  <thead>\n",
       "    <tr style=\"text-align: right;\">\n",
       "      <th></th>\n",
       "      <th>date</th>\n",
       "      <th>appliances</th>\n",
       "      <th>lights</th>\n",
       "      <th>t1</th>\n",
       "      <th>rh_1</th>\n",
       "      <th>t2</th>\n",
       "      <th>rh_2</th>\n",
       "      <th>t3</th>\n",
       "      <th>rh_3</th>\n",
       "      <th>t4</th>\n",
       "      <th>...</th>\n",
       "      <th>t9</th>\n",
       "      <th>rh_9</th>\n",
       "      <th>t_out</th>\n",
       "      <th>press_mm_hg</th>\n",
       "      <th>rh_out</th>\n",
       "      <th>windspeed</th>\n",
       "      <th>visibility</th>\n",
       "      <th>tdewpoint</th>\n",
       "      <th>rv1</th>\n",
       "      <th>rv2</th>\n",
       "    </tr>\n",
       "  </thead>\n",
       "  <tbody>\n",
       "    <tr>\n",
       "      <th>0</th>\n",
       "      <td>2016-01-11 17:00:00</td>\n",
       "      <td>60</td>\n",
       "      <td>30</td>\n",
       "      <td>19.89</td>\n",
       "      <td>47.596667</td>\n",
       "      <td>19.2</td>\n",
       "      <td>44.790000</td>\n",
       "      <td>19.79</td>\n",
       "      <td>44.730000</td>\n",
       "      <td>19.000000</td>\n",
       "      <td>...</td>\n",
       "      <td>17.033333</td>\n",
       "      <td>45.53</td>\n",
       "      <td>6.600000</td>\n",
       "      <td>733.5</td>\n",
       "      <td>92.0</td>\n",
       "      <td>7.000000</td>\n",
       "      <td>63.000000</td>\n",
       "      <td>5.3</td>\n",
       "      <td>13.275433</td>\n",
       "      <td>13.275433</td>\n",
       "    </tr>\n",
       "    <tr>\n",
       "      <th>1</th>\n",
       "      <td>2016-01-11 17:10:00</td>\n",
       "      <td>60</td>\n",
       "      <td>30</td>\n",
       "      <td>19.89</td>\n",
       "      <td>46.693333</td>\n",
       "      <td>19.2</td>\n",
       "      <td>44.722500</td>\n",
       "      <td>19.79</td>\n",
       "      <td>44.790000</td>\n",
       "      <td>19.000000</td>\n",
       "      <td>...</td>\n",
       "      <td>17.066667</td>\n",
       "      <td>45.56</td>\n",
       "      <td>6.483333</td>\n",
       "      <td>733.6</td>\n",
       "      <td>92.0</td>\n",
       "      <td>6.666667</td>\n",
       "      <td>59.166667</td>\n",
       "      <td>5.2</td>\n",
       "      <td>18.606195</td>\n",
       "      <td>18.606195</td>\n",
       "    </tr>\n",
       "    <tr>\n",
       "      <th>2</th>\n",
       "      <td>2016-01-11 17:20:00</td>\n",
       "      <td>50</td>\n",
       "      <td>30</td>\n",
       "      <td>19.89</td>\n",
       "      <td>46.300000</td>\n",
       "      <td>19.2</td>\n",
       "      <td>44.626667</td>\n",
       "      <td>19.79</td>\n",
       "      <td>44.933333</td>\n",
       "      <td>18.926667</td>\n",
       "      <td>...</td>\n",
       "      <td>17.000000</td>\n",
       "      <td>45.50</td>\n",
       "      <td>6.366667</td>\n",
       "      <td>733.7</td>\n",
       "      <td>92.0</td>\n",
       "      <td>6.333333</td>\n",
       "      <td>55.333333</td>\n",
       "      <td>5.1</td>\n",
       "      <td>28.642668</td>\n",
       "      <td>28.642668</td>\n",
       "    </tr>\n",
       "    <tr>\n",
       "      <th>3</th>\n",
       "      <td>2016-01-11 17:30:00</td>\n",
       "      <td>50</td>\n",
       "      <td>40</td>\n",
       "      <td>19.89</td>\n",
       "      <td>46.066667</td>\n",
       "      <td>19.2</td>\n",
       "      <td>44.590000</td>\n",
       "      <td>19.79</td>\n",
       "      <td>45.000000</td>\n",
       "      <td>18.890000</td>\n",
       "      <td>...</td>\n",
       "      <td>17.000000</td>\n",
       "      <td>45.40</td>\n",
       "      <td>6.250000</td>\n",
       "      <td>733.8</td>\n",
       "      <td>92.0</td>\n",
       "      <td>6.000000</td>\n",
       "      <td>51.500000</td>\n",
       "      <td>5.0</td>\n",
       "      <td>45.410389</td>\n",
       "      <td>45.410389</td>\n",
       "    </tr>\n",
       "    <tr>\n",
       "      <th>4</th>\n",
       "      <td>2016-01-11 17:40:00</td>\n",
       "      <td>60</td>\n",
       "      <td>40</td>\n",
       "      <td>19.89</td>\n",
       "      <td>46.333333</td>\n",
       "      <td>19.2</td>\n",
       "      <td>44.530000</td>\n",
       "      <td>19.79</td>\n",
       "      <td>45.000000</td>\n",
       "      <td>18.890000</td>\n",
       "      <td>...</td>\n",
       "      <td>17.000000</td>\n",
       "      <td>45.40</td>\n",
       "      <td>6.133333</td>\n",
       "      <td>733.9</td>\n",
       "      <td>92.0</td>\n",
       "      <td>5.666667</td>\n",
       "      <td>47.666667</td>\n",
       "      <td>4.9</td>\n",
       "      <td>10.084097</td>\n",
       "      <td>10.084097</td>\n",
       "    </tr>\n",
       "  </tbody>\n",
       "</table>\n",
       "<p>5 rows × 29 columns</p>\n",
       "</div>"
      ],
      "text/plain": [
       "                  date  appliances  lights     t1       rh_1    t2       rh_2  \\\n",
       "0  2016-01-11 17:00:00          60      30  19.89  47.596667  19.2  44.790000   \n",
       "1  2016-01-11 17:10:00          60      30  19.89  46.693333  19.2  44.722500   \n",
       "2  2016-01-11 17:20:00          50      30  19.89  46.300000  19.2  44.626667   \n",
       "3  2016-01-11 17:30:00          50      40  19.89  46.066667  19.2  44.590000   \n",
       "4  2016-01-11 17:40:00          60      40  19.89  46.333333  19.2  44.530000   \n",
       "\n",
       "      t3       rh_3         t4  ...         t9   rh_9     t_out  press_mm_hg  \\\n",
       "0  19.79  44.730000  19.000000  ...  17.033333  45.53  6.600000        733.5   \n",
       "1  19.79  44.790000  19.000000  ...  17.066667  45.56  6.483333        733.6   \n",
       "2  19.79  44.933333  18.926667  ...  17.000000  45.50  6.366667        733.7   \n",
       "3  19.79  45.000000  18.890000  ...  17.000000  45.40  6.250000        733.8   \n",
       "4  19.79  45.000000  18.890000  ...  17.000000  45.40  6.133333        733.9   \n",
       "\n",
       "   rh_out  windspeed  visibility  tdewpoint        rv1        rv2  \n",
       "0    92.0   7.000000   63.000000        5.3  13.275433  13.275433  \n",
       "1    92.0   6.666667   59.166667        5.2  18.606195  18.606195  \n",
       "2    92.0   6.333333   55.333333        5.1  28.642668  28.642668  \n",
       "3    92.0   6.000000   51.500000        5.0  45.410389  45.410389  \n",
       "4    92.0   5.666667   47.666667        4.9  10.084097  10.084097  \n",
       "\n",
       "[5 rows x 29 columns]"
      ]
     },
     "execution_count": 6,
     "metadata": {},
     "output_type": "execute_result"
    }
   ],
   "source": [
    "appliances.head()"
   ]
  },
  {
   "cell_type": "code",
   "execution_count": 7,
   "metadata": {},
   "outputs": [
    {
     "data": {
      "text/plain": [
       "(19735, 29)"
      ]
     },
     "execution_count": 7,
     "metadata": {},
     "output_type": "execute_result"
    }
   ],
   "source": [
    "appliances.shape"
   ]
  },
  {
   "cell_type": "code",
   "execution_count": 8,
   "metadata": {},
   "outputs": [
    {
     "data": {
      "text/plain": [
       "'2016-01-11 17:00:00'"
      ]
     },
     "execution_count": 8,
     "metadata": {},
     "output_type": "execute_result"
    }
   ],
   "source": [
    "appliances.date.min()"
   ]
  },
  {
   "cell_type": "code",
   "execution_count": 9,
   "metadata": {},
   "outputs": [
    {
     "data": {
      "text/plain": [
       "'2016-05-27 18:00:00'"
      ]
     },
     "execution_count": 9,
     "metadata": {},
     "output_type": "execute_result"
    }
   ],
   "source": [
    "appliances.date.max()"
   ]
  },
  {
   "cell_type": "markdown",
   "metadata": {},
   "source": [
    "1. Transforma la columna de fecha -date- en 3 nuevas columnas para tener el mes, el día del mes, y la hora del día separados."
   ]
  },
  {
   "cell_type": "code",
   "execution_count": 10,
   "metadata": {},
   "outputs": [],
   "source": [
    "appliances['year'] = pd.DatetimeIndex(appliances.date).year\n",
    "appliances['month'] = pd.DatetimeIndex(appliances.date).month\n",
    "appliances['day'] = pd.DatetimeIndex(appliances.date).day\n",
    "appliances['hour'] = pd.DatetimeIndex(appliances.date).hour"
   ]
  },
  {
   "cell_type": "code",
   "execution_count": 11,
   "metadata": {},
   "outputs": [
    {
     "data": {
      "text/plain": [
       "array(['date', 'appliances', 'lights', 't1', 'rh_1', 't2', 'rh_2', 't3',\n",
       "       'rh_3', 't4', 'rh_4', 't5', 'rh_5', 't6', 'rh_6', 't7', 'rh_7',\n",
       "       't8', 'rh_8', 't9', 'rh_9', 't_out', 'press_mm_hg', 'rh_out',\n",
       "       'windspeed', 'visibility', 'tdewpoint', 'rv1', 'rv2', 'year',\n",
       "       'month', 'day', 'hour'], dtype=object)"
      ]
     },
     "execution_count": 11,
     "metadata": {},
     "output_type": "execute_result"
    }
   ],
   "source": [
    "appliances.columns.values"
   ]
  },
  {
   "cell_type": "code",
   "execution_count": 12,
   "metadata": {},
   "outputs": [
    {
     "data": {
      "text/plain": [
       "month\n",
       "1    2922\n",
       "2    4176\n",
       "3    4464\n",
       "4    4320\n",
       "5    3853\n",
       "Name: year, dtype: int64"
      ]
     },
     "execution_count": 12,
     "metadata": {},
     "output_type": "execute_result"
    }
   ],
   "source": [
    "appliances.groupby(['month'])['year'].count()"
   ]
  },
  {
   "cell_type": "markdown",
   "metadata": {},
   "source": [
    "2. ¿Cuántas observaciones tienes en el conjunto de entrenamiento y cuántas en el de pruebas?"
   ]
  },
  {
   "cell_type": "code",
   "execution_count": 59,
   "metadata": {},
   "outputs": [],
   "source": [
    "train = appliances[appliances.date <= '2016-04-27 23:55']\n",
    "test = appliances[appliances.date >= '2016-04-28 23:55']"
   ]
  },
  {
   "cell_type": "code",
   "execution_count": 60,
   "metadata": {},
   "outputs": [
    {
     "name": "stdout",
     "output_type": "stream",
     "text": [
      "train:  15450 \n",
      "test:  4141\n"
     ]
    }
   ],
   "source": [
    "print(\"train: \", train.shape[0], \"\\ntest: \", test.shape[0])"
   ]
  },
  {
   "cell_type": "code",
   "execution_count": 15,
   "metadata": {},
   "outputs": [
    {
     "data": {
      "text/plain": [
       "('2016-01-11 17:00:00', '2016-04-27 23:50:00')"
      ]
     },
     "execution_count": 15,
     "metadata": {},
     "output_type": "execute_result"
    }
   ],
   "source": [
    "(train.date.min(), train.date.max())"
   ]
  },
  {
   "cell_type": "code",
   "execution_count": 16,
   "metadata": {},
   "outputs": [
    {
     "data": {
      "text/plain": [
       "('2016-04-29 00:00:00', '2016-05-27 18:00:00')"
      ]
     },
     "execution_count": 16,
     "metadata": {},
     "output_type": "execute_result"
    }
   ],
   "source": [
    "(test.date.min(), test.date.max())"
   ]
  },
  {
   "cell_type": "code",
   "execution_count": 17,
   "metadata": {},
   "outputs": [
    {
     "data": {
      "text/html": [
       "<div>\n",
       "<style scoped>\n",
       "    .dataframe tbody tr th:only-of-type {\n",
       "        vertical-align: middle;\n",
       "    }\n",
       "\n",
       "    .dataframe tbody tr th {\n",
       "        vertical-align: top;\n",
       "    }\n",
       "\n",
       "    .dataframe thead th {\n",
       "        text-align: right;\n",
       "    }\n",
       "</style>\n",
       "<table border=\"1\" class=\"dataframe\">\n",
       "  <thead>\n",
       "    <tr style=\"text-align: right;\">\n",
       "      <th></th>\n",
       "      <th>date</th>\n",
       "      <th>appliances</th>\n",
       "      <th>lights</th>\n",
       "      <th>t1</th>\n",
       "      <th>rh_1</th>\n",
       "      <th>t2</th>\n",
       "      <th>rh_2</th>\n",
       "      <th>t3</th>\n",
       "      <th>rh_3</th>\n",
       "      <th>t4</th>\n",
       "      <th>...</th>\n",
       "      <th>rh_out</th>\n",
       "      <th>windspeed</th>\n",
       "      <th>visibility</th>\n",
       "      <th>tdewpoint</th>\n",
       "      <th>rv1</th>\n",
       "      <th>rv2</th>\n",
       "      <th>year</th>\n",
       "      <th>month</th>\n",
       "      <th>day</th>\n",
       "      <th>hour</th>\n",
       "    </tr>\n",
       "  </thead>\n",
       "  <tbody>\n",
       "    <tr>\n",
       "      <th>15306</th>\n",
       "      <td>2016-04-27 00:00:00</td>\n",
       "      <td>60</td>\n",
       "      <td>0</td>\n",
       "      <td>21.500000</td>\n",
       "      <td>36.00</td>\n",
       "      <td>18.760000</td>\n",
       "      <td>37.656667</td>\n",
       "      <td>22.050000</td>\n",
       "      <td>35.950000</td>\n",
       "      <td>20.000000</td>\n",
       "      <td>...</td>\n",
       "      <td>81.000000</td>\n",
       "      <td>6.000000</td>\n",
       "      <td>40.000000</td>\n",
       "      <td>0.100000</td>\n",
       "      <td>25.942795</td>\n",
       "      <td>25.942795</td>\n",
       "      <td>2016</td>\n",
       "      <td>4</td>\n",
       "      <td>27</td>\n",
       "      <td>0</td>\n",
       "    </tr>\n",
       "    <tr>\n",
       "      <th>15307</th>\n",
       "      <td>2016-04-27 00:10:00</td>\n",
       "      <td>60</td>\n",
       "      <td>0</td>\n",
       "      <td>21.500000</td>\n",
       "      <td>36.00</td>\n",
       "      <td>18.700000</td>\n",
       "      <td>37.817500</td>\n",
       "      <td>22.100000</td>\n",
       "      <td>35.900000</td>\n",
       "      <td>20.000000</td>\n",
       "      <td>...</td>\n",
       "      <td>81.833333</td>\n",
       "      <td>5.833333</td>\n",
       "      <td>40.000000</td>\n",
       "      <td>0.183333</td>\n",
       "      <td>2.282755</td>\n",
       "      <td>2.282755</td>\n",
       "      <td>2016</td>\n",
       "      <td>4</td>\n",
       "      <td>27</td>\n",
       "      <td>0</td>\n",
       "    </tr>\n",
       "    <tr>\n",
       "      <th>15308</th>\n",
       "      <td>2016-04-27 00:20:00</td>\n",
       "      <td>60</td>\n",
       "      <td>0</td>\n",
       "      <td>21.426667</td>\n",
       "      <td>35.86</td>\n",
       "      <td>18.633333</td>\n",
       "      <td>37.900000</td>\n",
       "      <td>22.100000</td>\n",
       "      <td>35.900000</td>\n",
       "      <td>20.000000</td>\n",
       "      <td>...</td>\n",
       "      <td>82.666667</td>\n",
       "      <td>5.666667</td>\n",
       "      <td>40.000000</td>\n",
       "      <td>0.266667</td>\n",
       "      <td>16.667259</td>\n",
       "      <td>16.667259</td>\n",
       "      <td>2016</td>\n",
       "      <td>4</td>\n",
       "      <td>27</td>\n",
       "      <td>0</td>\n",
       "    </tr>\n",
       "    <tr>\n",
       "      <th>15309</th>\n",
       "      <td>2016-04-27 00:30:00</td>\n",
       "      <td>50</td>\n",
       "      <td>0</td>\n",
       "      <td>21.390000</td>\n",
       "      <td>35.79</td>\n",
       "      <td>18.600000</td>\n",
       "      <td>37.933333</td>\n",
       "      <td>22.100000</td>\n",
       "      <td>35.966667</td>\n",
       "      <td>20.000000</td>\n",
       "      <td>...</td>\n",
       "      <td>83.500000</td>\n",
       "      <td>5.500000</td>\n",
       "      <td>40.000000</td>\n",
       "      <td>0.350000</td>\n",
       "      <td>13.784903</td>\n",
       "      <td>13.784903</td>\n",
       "      <td>2016</td>\n",
       "      <td>4</td>\n",
       "      <td>27</td>\n",
       "      <td>0</td>\n",
       "    </tr>\n",
       "    <tr>\n",
       "      <th>15310</th>\n",
       "      <td>2016-04-27 00:40:00</td>\n",
       "      <td>50</td>\n",
       "      <td>0</td>\n",
       "      <td>21.323333</td>\n",
       "      <td>35.79</td>\n",
       "      <td>18.533333</td>\n",
       "      <td>38.000000</td>\n",
       "      <td>22.100000</td>\n",
       "      <td>35.900000</td>\n",
       "      <td>20.000000</td>\n",
       "      <td>...</td>\n",
       "      <td>84.333333</td>\n",
       "      <td>5.333333</td>\n",
       "      <td>40.000000</td>\n",
       "      <td>0.433333</td>\n",
       "      <td>9.383915</td>\n",
       "      <td>9.383915</td>\n",
       "      <td>2016</td>\n",
       "      <td>4</td>\n",
       "      <td>27</td>\n",
       "      <td>0</td>\n",
       "    </tr>\n",
       "    <tr>\n",
       "      <th>...</th>\n",
       "      <td>...</td>\n",
       "      <td>...</td>\n",
       "      <td>...</td>\n",
       "      <td>...</td>\n",
       "      <td>...</td>\n",
       "      <td>...</td>\n",
       "      <td>...</td>\n",
       "      <td>...</td>\n",
       "      <td>...</td>\n",
       "      <td>...</td>\n",
       "      <td>...</td>\n",
       "      <td>...</td>\n",
       "      <td>...</td>\n",
       "      <td>...</td>\n",
       "      <td>...</td>\n",
       "      <td>...</td>\n",
       "      <td>...</td>\n",
       "      <td>...</td>\n",
       "      <td>...</td>\n",
       "      <td>...</td>\n",
       "      <td>...</td>\n",
       "    </tr>\n",
       "    <tr>\n",
       "      <th>15445</th>\n",
       "      <td>2016-04-27 23:10:00</td>\n",
       "      <td>70</td>\n",
       "      <td>20</td>\n",
       "      <td>21.730000</td>\n",
       "      <td>35.29</td>\n",
       "      <td>19.000000</td>\n",
       "      <td>37.433333</td>\n",
       "      <td>21.290000</td>\n",
       "      <td>34.760000</td>\n",
       "      <td>20.566667</td>\n",
       "      <td>...</td>\n",
       "      <td>88.833333</td>\n",
       "      <td>1.000000</td>\n",
       "      <td>37.833333</td>\n",
       "      <td>0.616667</td>\n",
       "      <td>43.464323</td>\n",
       "      <td>43.464323</td>\n",
       "      <td>2016</td>\n",
       "      <td>4</td>\n",
       "      <td>27</td>\n",
       "      <td>23</td>\n",
       "    </tr>\n",
       "    <tr>\n",
       "      <th>15446</th>\n",
       "      <td>2016-04-27 23:20:00</td>\n",
       "      <td>70</td>\n",
       "      <td>10</td>\n",
       "      <td>21.700000</td>\n",
       "      <td>35.53</td>\n",
       "      <td>18.890000</td>\n",
       "      <td>37.500000</td>\n",
       "      <td>21.323333</td>\n",
       "      <td>34.790000</td>\n",
       "      <td>20.566667</td>\n",
       "      <td>...</td>\n",
       "      <td>89.666667</td>\n",
       "      <td>1.000000</td>\n",
       "      <td>35.666667</td>\n",
       "      <td>0.533333</td>\n",
       "      <td>30.317104</td>\n",
       "      <td>30.317104</td>\n",
       "      <td>2016</td>\n",
       "      <td>4</td>\n",
       "      <td>27</td>\n",
       "      <td>23</td>\n",
       "    </tr>\n",
       "    <tr>\n",
       "      <th>15447</th>\n",
       "      <td>2016-04-27 23:30:00</td>\n",
       "      <td>70</td>\n",
       "      <td>20</td>\n",
       "      <td>21.700000</td>\n",
       "      <td>35.53</td>\n",
       "      <td>18.823333</td>\n",
       "      <td>37.433333</td>\n",
       "      <td>21.390000</td>\n",
       "      <td>34.863333</td>\n",
       "      <td>20.566667</td>\n",
       "      <td>...</td>\n",
       "      <td>90.500000</td>\n",
       "      <td>1.000000</td>\n",
       "      <td>33.500000</td>\n",
       "      <td>0.450000</td>\n",
       "      <td>49.482761</td>\n",
       "      <td>49.482761</td>\n",
       "      <td>2016</td>\n",
       "      <td>4</td>\n",
       "      <td>27</td>\n",
       "      <td>23</td>\n",
       "    </tr>\n",
       "    <tr>\n",
       "      <th>15448</th>\n",
       "      <td>2016-04-27 23:40:00</td>\n",
       "      <td>60</td>\n",
       "      <td>10</td>\n",
       "      <td>21.600000</td>\n",
       "      <td>35.40</td>\n",
       "      <td>18.760000</td>\n",
       "      <td>37.400000</td>\n",
       "      <td>21.390000</td>\n",
       "      <td>34.933333</td>\n",
       "      <td>20.566667</td>\n",
       "      <td>...</td>\n",
       "      <td>91.333333</td>\n",
       "      <td>1.000000</td>\n",
       "      <td>31.333333</td>\n",
       "      <td>0.366667</td>\n",
       "      <td>29.941927</td>\n",
       "      <td>29.941927</td>\n",
       "      <td>2016</td>\n",
       "      <td>4</td>\n",
       "      <td>27</td>\n",
       "      <td>23</td>\n",
       "    </tr>\n",
       "    <tr>\n",
       "      <th>15449</th>\n",
       "      <td>2016-04-27 23:50:00</td>\n",
       "      <td>60</td>\n",
       "      <td>10</td>\n",
       "      <td>21.600000</td>\n",
       "      <td>35.40</td>\n",
       "      <td>18.700000</td>\n",
       "      <td>37.466667</td>\n",
       "      <td>21.390000</td>\n",
       "      <td>34.933333</td>\n",
       "      <td>20.600000</td>\n",
       "      <td>...</td>\n",
       "      <td>92.166667</td>\n",
       "      <td>1.000000</td>\n",
       "      <td>29.166667</td>\n",
       "      <td>0.283333</td>\n",
       "      <td>7.233873</td>\n",
       "      <td>7.233873</td>\n",
       "      <td>2016</td>\n",
       "      <td>4</td>\n",
       "      <td>27</td>\n",
       "      <td>23</td>\n",
       "    </tr>\n",
       "  </tbody>\n",
       "</table>\n",
       "<p>144 rows × 33 columns</p>\n",
       "</div>"
      ],
      "text/plain": [
       "                      date  appliances  lights         t1   rh_1         t2  \\\n",
       "15306  2016-04-27 00:00:00          60       0  21.500000  36.00  18.760000   \n",
       "15307  2016-04-27 00:10:00          60       0  21.500000  36.00  18.700000   \n",
       "15308  2016-04-27 00:20:00          60       0  21.426667  35.86  18.633333   \n",
       "15309  2016-04-27 00:30:00          50       0  21.390000  35.79  18.600000   \n",
       "15310  2016-04-27 00:40:00          50       0  21.323333  35.79  18.533333   \n",
       "...                    ...         ...     ...        ...    ...        ...   \n",
       "15445  2016-04-27 23:10:00          70      20  21.730000  35.29  19.000000   \n",
       "15446  2016-04-27 23:20:00          70      10  21.700000  35.53  18.890000   \n",
       "15447  2016-04-27 23:30:00          70      20  21.700000  35.53  18.823333   \n",
       "15448  2016-04-27 23:40:00          60      10  21.600000  35.40  18.760000   \n",
       "15449  2016-04-27 23:50:00          60      10  21.600000  35.40  18.700000   \n",
       "\n",
       "            rh_2         t3       rh_3         t4  ...     rh_out  windspeed  \\\n",
       "15306  37.656667  22.050000  35.950000  20.000000  ...  81.000000   6.000000   \n",
       "15307  37.817500  22.100000  35.900000  20.000000  ...  81.833333   5.833333   \n",
       "15308  37.900000  22.100000  35.900000  20.000000  ...  82.666667   5.666667   \n",
       "15309  37.933333  22.100000  35.966667  20.000000  ...  83.500000   5.500000   \n",
       "15310  38.000000  22.100000  35.900000  20.000000  ...  84.333333   5.333333   \n",
       "...          ...        ...        ...        ...  ...        ...        ...   \n",
       "15445  37.433333  21.290000  34.760000  20.566667  ...  88.833333   1.000000   \n",
       "15446  37.500000  21.323333  34.790000  20.566667  ...  89.666667   1.000000   \n",
       "15447  37.433333  21.390000  34.863333  20.566667  ...  90.500000   1.000000   \n",
       "15448  37.400000  21.390000  34.933333  20.566667  ...  91.333333   1.000000   \n",
       "15449  37.466667  21.390000  34.933333  20.600000  ...  92.166667   1.000000   \n",
       "\n",
       "       visibility  tdewpoint        rv1        rv2  year  month  day  hour  \n",
       "15306   40.000000   0.100000  25.942795  25.942795  2016      4   27     0  \n",
       "15307   40.000000   0.183333   2.282755   2.282755  2016      4   27     0  \n",
       "15308   40.000000   0.266667  16.667259  16.667259  2016      4   27     0  \n",
       "15309   40.000000   0.350000  13.784903  13.784903  2016      4   27     0  \n",
       "15310   40.000000   0.433333   9.383915   9.383915  2016      4   27     0  \n",
       "...           ...        ...        ...        ...   ...    ...  ...   ...  \n",
       "15445   37.833333   0.616667  43.464323  43.464323  2016      4   27    23  \n",
       "15446   35.666667   0.533333  30.317104  30.317104  2016      4   27    23  \n",
       "15447   33.500000   0.450000  49.482761  49.482761  2016      4   27    23  \n",
       "15448   31.333333   0.366667  29.941927  29.941927  2016      4   27    23  \n",
       "15449   29.166667   0.283333   7.233873   7.233873  2016      4   27    23  \n",
       "\n",
       "[144 rows x 33 columns]"
      ]
     },
     "execution_count": 17,
     "metadata": {},
     "output_type": "execute_result"
    }
   ],
   "source": [
    "train[train.date >= '2016-04-27 00:00']"
   ]
  },
  {
   "cell_type": "code",
   "execution_count": 18,
   "metadata": {},
   "outputs": [
    {
     "data": {
      "text/html": [
       "<div>\n",
       "<style scoped>\n",
       "    .dataframe tbody tr th:only-of-type {\n",
       "        vertical-align: middle;\n",
       "    }\n",
       "\n",
       "    .dataframe tbody tr th {\n",
       "        vertical-align: top;\n",
       "    }\n",
       "\n",
       "    .dataframe thead th {\n",
       "        text-align: right;\n",
       "    }\n",
       "</style>\n",
       "<table border=\"1\" class=\"dataframe\">\n",
       "  <thead>\n",
       "    <tr style=\"text-align: right;\">\n",
       "      <th></th>\n",
       "      <th>date</th>\n",
       "      <th>appliances</th>\n",
       "      <th>lights</th>\n",
       "      <th>t1</th>\n",
       "      <th>rh_1</th>\n",
       "      <th>t2</th>\n",
       "      <th>rh_2</th>\n",
       "      <th>t3</th>\n",
       "      <th>rh_3</th>\n",
       "      <th>t4</th>\n",
       "      <th>...</th>\n",
       "      <th>rh_out</th>\n",
       "      <th>windspeed</th>\n",
       "      <th>visibility</th>\n",
       "      <th>tdewpoint</th>\n",
       "      <th>rv1</th>\n",
       "      <th>rv2</th>\n",
       "      <th>year</th>\n",
       "      <th>month</th>\n",
       "      <th>day</th>\n",
       "      <th>hour</th>\n",
       "    </tr>\n",
       "  </thead>\n",
       "  <tbody>\n",
       "    <tr>\n",
       "      <th>15594</th>\n",
       "      <td>2016-04-29 00:00:00</td>\n",
       "      <td>30</td>\n",
       "      <td>0</td>\n",
       "      <td>20.666667</td>\n",
       "      <td>33.790000</td>\n",
       "      <td>18.066667</td>\n",
       "      <td>36.060000</td>\n",
       "      <td>22.500000</td>\n",
       "      <td>35.200000</td>\n",
       "      <td>20.000000</td>\n",
       "      <td>...</td>\n",
       "      <td>79.666667</td>\n",
       "      <td>3.333333</td>\n",
       "      <td>40.0</td>\n",
       "      <td>0.033333</td>\n",
       "      <td>19.181156</td>\n",
       "      <td>19.181156</td>\n",
       "      <td>2016</td>\n",
       "      <td>4</td>\n",
       "      <td>29</td>\n",
       "      <td>0</td>\n",
       "    </tr>\n",
       "    <tr>\n",
       "      <th>15595</th>\n",
       "      <td>2016-04-29 00:10:00</td>\n",
       "      <td>20</td>\n",
       "      <td>0</td>\n",
       "      <td>20.600000</td>\n",
       "      <td>33.790000</td>\n",
       "      <td>18.000000</td>\n",
       "      <td>36.060000</td>\n",
       "      <td>22.500000</td>\n",
       "      <td>35.200000</td>\n",
       "      <td>19.963333</td>\n",
       "      <td>...</td>\n",
       "      <td>79.777778</td>\n",
       "      <td>3.388889</td>\n",
       "      <td>40.0</td>\n",
       "      <td>0.088889</td>\n",
       "      <td>41.192372</td>\n",
       "      <td>41.192372</td>\n",
       "      <td>2016</td>\n",
       "      <td>4</td>\n",
       "      <td>29</td>\n",
       "      <td>0</td>\n",
       "    </tr>\n",
       "    <tr>\n",
       "      <th>15596</th>\n",
       "      <td>2016-04-29 00:20:00</td>\n",
       "      <td>40</td>\n",
       "      <td>0</td>\n",
       "      <td>20.600000</td>\n",
       "      <td>33.900000</td>\n",
       "      <td>18.000000</td>\n",
       "      <td>36.200000</td>\n",
       "      <td>22.390000</td>\n",
       "      <td>35.126667</td>\n",
       "      <td>19.963333</td>\n",
       "      <td>...</td>\n",
       "      <td>79.888889</td>\n",
       "      <td>3.444444</td>\n",
       "      <td>40.0</td>\n",
       "      <td>0.144444</td>\n",
       "      <td>23.867322</td>\n",
       "      <td>23.867322</td>\n",
       "      <td>2016</td>\n",
       "      <td>4</td>\n",
       "      <td>29</td>\n",
       "      <td>0</td>\n",
       "    </tr>\n",
       "    <tr>\n",
       "      <th>15597</th>\n",
       "      <td>2016-04-29 00:30:00</td>\n",
       "      <td>50</td>\n",
       "      <td>0</td>\n",
       "      <td>20.600000</td>\n",
       "      <td>33.900000</td>\n",
       "      <td>17.926667</td>\n",
       "      <td>36.333333</td>\n",
       "      <td>22.390000</td>\n",
       "      <td>35.126667</td>\n",
       "      <td>19.890000</td>\n",
       "      <td>...</td>\n",
       "      <td>80.000000</td>\n",
       "      <td>3.500000</td>\n",
       "      <td>40.0</td>\n",
       "      <td>0.200000</td>\n",
       "      <td>33.345619</td>\n",
       "      <td>33.345619</td>\n",
       "      <td>2016</td>\n",
       "      <td>4</td>\n",
       "      <td>29</td>\n",
       "      <td>0</td>\n",
       "    </tr>\n",
       "    <tr>\n",
       "      <th>15598</th>\n",
       "      <td>2016-04-29 00:40:00</td>\n",
       "      <td>50</td>\n",
       "      <td>0</td>\n",
       "      <td>20.566667</td>\n",
       "      <td>33.933333</td>\n",
       "      <td>17.890000</td>\n",
       "      <td>36.400000</td>\n",
       "      <td>22.323333</td>\n",
       "      <td>35.200000</td>\n",
       "      <td>19.890000</td>\n",
       "      <td>...</td>\n",
       "      <td>80.111111</td>\n",
       "      <td>3.555556</td>\n",
       "      <td>40.0</td>\n",
       "      <td>0.255556</td>\n",
       "      <td>9.737663</td>\n",
       "      <td>9.737663</td>\n",
       "      <td>2016</td>\n",
       "      <td>4</td>\n",
       "      <td>29</td>\n",
       "      <td>0</td>\n",
       "    </tr>\n",
       "  </tbody>\n",
       "</table>\n",
       "<p>5 rows × 33 columns</p>\n",
       "</div>"
      ],
      "text/plain": [
       "                      date  appliances  lights         t1       rh_1  \\\n",
       "15594  2016-04-29 00:00:00          30       0  20.666667  33.790000   \n",
       "15595  2016-04-29 00:10:00          20       0  20.600000  33.790000   \n",
       "15596  2016-04-29 00:20:00          40       0  20.600000  33.900000   \n",
       "15597  2016-04-29 00:30:00          50       0  20.600000  33.900000   \n",
       "15598  2016-04-29 00:40:00          50       0  20.566667  33.933333   \n",
       "\n",
       "              t2       rh_2         t3       rh_3         t4  ...     rh_out  \\\n",
       "15594  18.066667  36.060000  22.500000  35.200000  20.000000  ...  79.666667   \n",
       "15595  18.000000  36.060000  22.500000  35.200000  19.963333  ...  79.777778   \n",
       "15596  18.000000  36.200000  22.390000  35.126667  19.963333  ...  79.888889   \n",
       "15597  17.926667  36.333333  22.390000  35.126667  19.890000  ...  80.000000   \n",
       "15598  17.890000  36.400000  22.323333  35.200000  19.890000  ...  80.111111   \n",
       "\n",
       "       windspeed  visibility  tdewpoint        rv1        rv2  year  month  \\\n",
       "15594   3.333333        40.0   0.033333  19.181156  19.181156  2016      4   \n",
       "15595   3.388889        40.0   0.088889  41.192372  41.192372  2016      4   \n",
       "15596   3.444444        40.0   0.144444  23.867322  23.867322  2016      4   \n",
       "15597   3.500000        40.0   0.200000  33.345619  33.345619  2016      4   \n",
       "15598   3.555556        40.0   0.255556   9.737663   9.737663  2016      4   \n",
       "\n",
       "       day  hour  \n",
       "15594   29     0  \n",
       "15595   29     0  \n",
       "15596   29     0  \n",
       "15597   29     0  \n",
       "15598   29     0  \n",
       "\n",
       "[5 rows x 33 columns]"
      ]
     },
     "execution_count": 18,
     "metadata": {},
     "output_type": "execute_result"
    }
   ],
   "source": [
    "test.head()"
   ]
  },
  {
   "cell_type": "markdown",
   "metadata": {},
   "source": [
    "3. Selección de *features*"
   ]
  },
  {
   "cell_type": "code",
   "execution_count": 19,
   "metadata": {},
   "outputs": [],
   "source": [
    "train_x = train.drop(['date', 'appliances', 'rv1', 'rv2', 'year'], axis=1)\n",
    "test_x = test.drop(['date', 'appliances', 'rv1', 'rv2', 'year'], axis=1)\n",
    "\n",
    "train_y = train.appliances\n",
    "test_y = test.appliances"
   ]
  },
  {
   "cell_type": "code",
   "execution_count": 20,
   "metadata": {},
   "outputs": [
    {
     "data": {
      "text/plain": [
       "Index(['lights', 't1', 'rh_1', 't2', 'rh_2', 't3', 'rh_3', 't4', 'rh_4', 't5',\n",
       "       'rh_5', 't6', 'rh_6', 't7', 'rh_7', 't8', 'rh_8', 't9', 'rh_9', 't_out',\n",
       "       'press_mm_hg', 'rh_out', 'windspeed', 'visibility', 'tdewpoint',\n",
       "       'month', 'day', 'hour'],\n",
       "      dtype='object')"
      ]
     },
     "execution_count": 20,
     "metadata": {},
     "output_type": "execute_result"
    }
   ],
   "source": [
    "train_x.columns"
   ]
  },
  {
   "cell_type": "code",
   "execution_count": 21,
   "metadata": {},
   "outputs": [
    {
     "data": {
      "text/plain": [
       "0    60\n",
       "1    60\n",
       "2    50\n",
       "3    50\n",
       "4    60\n",
       "5    50\n",
       "6    60\n",
       "7    60\n",
       "8    60\n",
       "9    70\n",
       "Name: appliances, dtype: int64"
      ]
     },
     "execution_count": 21,
     "metadata": {},
     "output_type": "execute_result"
    }
   ],
   "source": [
    "train_y[:10]"
   ]
  },
  {
   "cell_type": "markdown",
   "metadata": {},
   "source": [
    "4. GridSearchCV y TimeSeriesSplit"
   ]
  },
  {
   "cell_type": "code",
   "execution_count": 22,
   "metadata": {},
   "outputs": [],
   "source": [
    "from sklearn.model_selection import TimeSeriesSplit, GridSearchCV\n",
    "from sklearn.tree import DecisionTreeRegressor"
   ]
  },
  {
   "cell_type": "code",
   "execution_count": 23,
   "metadata": {},
   "outputs": [],
   "source": [
    "cv = TimeSeriesSplit(n_splits = 7)"
   ]
  },
  {
   "cell_type": "code",
   "execution_count": 24,
   "metadata": {},
   "outputs": [],
   "source": [
    "dtr = DecisionTreeRegressor()"
   ]
  },
  {
   "cell_type": "code",
   "execution_count": 25,
   "metadata": {},
   "outputs": [],
   "source": [
    "grid = {'max_depth': [5,10,15,20], 'criterion': ['mse', 'mae'], 'min_samples_leaf': [5,7,9,11]}"
   ]
  },
  {
   "cell_type": "code",
   "execution_count": 26,
   "metadata": {},
   "outputs": [],
   "source": [
    "gs = GridSearchCV(dtr, param_grid=grid, cv=cv, scoring='neg_root_mean_squared_error')"
   ]
  },
  {
   "cell_type": "code",
   "execution_count": 27,
   "metadata": {},
   "outputs": [
    {
     "data": {
      "text/plain": [
       "GridSearchCV(cv=TimeSeriesSplit(gap=0, max_train_size=None, n_splits=7, test_size=None),\n",
       "             estimator=DecisionTreeRegressor(),\n",
       "             param_grid={'criterion': ['mse', 'mae'],\n",
       "                         'max_depth': [5, 10, 15, 20],\n",
       "                         'min_samples_leaf': [5, 7, 9, 11]},\n",
       "             scoring='neg_root_mean_squared_error')"
      ]
     },
     "execution_count": 27,
     "metadata": {},
     "output_type": "execute_result"
    }
   ],
   "source": [
    "gs.fit(train_x, train_y)"
   ]
  },
  {
   "cell_type": "markdown",
   "metadata": {},
   "source": [
    "5. Mejor estimador"
   ]
  },
  {
   "cell_type": "code",
   "execution_count": 28,
   "metadata": {},
   "outputs": [
    {
     "data": {
      "text/plain": [
       "DecisionTreeRegressor(criterion='mae', max_depth=5, min_samples_leaf=11)"
      ]
     },
     "execution_count": 28,
     "metadata": {},
     "output_type": "execute_result"
    }
   ],
   "source": [
    "model = gs.best_estimator_\n",
    "model"
   ]
  },
  {
   "cell_type": "markdown",
   "metadata": {},
   "source": [
    "6. ¿Cuáles son las tres variables que brindan más información del mejor estimador obtenido con el GridSearchCV? Incluye el porcentaje de importancia\n"
   ]
  },
  {
   "cell_type": "code",
   "execution_count": 29,
   "metadata": {},
   "outputs": [
    {
     "data": {
      "text/plain": [
       "array([2.10272075e-02, 0.00000000e+00, 0.00000000e+00, 7.95624068e-03,\n",
       "       1.22185125e-02, 9.78901755e-02, 5.90324643e-02, 0.00000000e+00,\n",
       "       0.00000000e+00, 0.00000000e+00, 0.00000000e+00, 0.00000000e+00,\n",
       "       0.00000000e+00, 4.97265042e-04, 0.00000000e+00, 5.67592527e-02,\n",
       "       0.00000000e+00, 1.13660581e-02, 0.00000000e+00, 0.00000000e+00,\n",
       "       4.34751723e-02, 0.00000000e+00, 0.00000000e+00, 1.13660581e-03,\n",
       "       0.00000000e+00, 0.00000000e+00, 0.00000000e+00, 6.88641046e-01])"
      ]
     },
     "execution_count": 29,
     "metadata": {},
     "output_type": "execute_result"
    }
   ],
   "source": [
    "model.feature_importances_"
   ]
  },
  {
   "cell_type": "code",
   "execution_count": 32,
   "metadata": {},
   "outputs": [],
   "source": [
    "feature_importance = pd.DataFrame({'features': train_x.columns.values, \n",
    "                                  'importance': model.feature_importances_})"
   ]
  },
  {
   "cell_type": "code",
   "execution_count": 34,
   "metadata": {},
   "outputs": [
    {
     "data": {
      "text/html": [
       "<div>\n",
       "<style scoped>\n",
       "    .dataframe tbody tr th:only-of-type {\n",
       "        vertical-align: middle;\n",
       "    }\n",
       "\n",
       "    .dataframe tbody tr th {\n",
       "        vertical-align: top;\n",
       "    }\n",
       "\n",
       "    .dataframe thead th {\n",
       "        text-align: right;\n",
       "    }\n",
       "</style>\n",
       "<table border=\"1\" class=\"dataframe\">\n",
       "  <thead>\n",
       "    <tr style=\"text-align: right;\">\n",
       "      <th></th>\n",
       "      <th>features</th>\n",
       "      <th>importance</th>\n",
       "    </tr>\n",
       "  </thead>\n",
       "  <tbody>\n",
       "    <tr>\n",
       "      <th>27</th>\n",
       "      <td>hour</td>\n",
       "      <td>0.688641</td>\n",
       "    </tr>\n",
       "    <tr>\n",
       "      <th>5</th>\n",
       "      <td>t3</td>\n",
       "      <td>0.097890</td>\n",
       "    </tr>\n",
       "    <tr>\n",
       "      <th>6</th>\n",
       "      <td>rh_3</td>\n",
       "      <td>0.059032</td>\n",
       "    </tr>\n",
       "    <tr>\n",
       "      <th>15</th>\n",
       "      <td>t8</td>\n",
       "      <td>0.056759</td>\n",
       "    </tr>\n",
       "    <tr>\n",
       "      <th>20</th>\n",
       "      <td>press_mm_hg</td>\n",
       "      <td>0.043475</td>\n",
       "    </tr>\n",
       "  </tbody>\n",
       "</table>\n",
       "</div>"
      ],
      "text/plain": [
       "       features  importance\n",
       "27         hour    0.688641\n",
       "5            t3    0.097890\n",
       "6          rh_3    0.059032\n",
       "15           t8    0.056759\n",
       "20  press_mm_hg    0.043475"
      ]
     },
     "execution_count": 34,
     "metadata": {},
     "output_type": "execute_result"
    }
   ],
   "source": [
    "feature_importance.sort_values(by='importance', ascending=False).head()"
   ]
  },
  {
   "cell_type": "code",
   "execution_count": 38,
   "metadata": {},
   "outputs": [
    {
     "data": {
      "text/html": [
       "<div>\n",
       "<style scoped>\n",
       "    .dataframe tbody tr th:only-of-type {\n",
       "        vertical-align: middle;\n",
       "    }\n",
       "\n",
       "    .dataframe tbody tr th {\n",
       "        vertical-align: top;\n",
       "    }\n",
       "\n",
       "    .dataframe thead th {\n",
       "        text-align: right;\n",
       "    }\n",
       "</style>\n",
       "<table border=\"1\" class=\"dataframe\">\n",
       "  <thead>\n",
       "    <tr style=\"text-align: right;\">\n",
       "      <th></th>\n",
       "      <th>features</th>\n",
       "      <th>importance</th>\n",
       "    </tr>\n",
       "  </thead>\n",
       "  <tbody>\n",
       "    <tr>\n",
       "      <th>0</th>\n",
       "      <td>lights</td>\n",
       "      <td>0.021027</td>\n",
       "    </tr>\n",
       "    <tr>\n",
       "      <th>20</th>\n",
       "      <td>press_mm_hg</td>\n",
       "      <td>0.043475</td>\n",
       "    </tr>\n",
       "    <tr>\n",
       "      <th>15</th>\n",
       "      <td>t8</td>\n",
       "      <td>0.056759</td>\n",
       "    </tr>\n",
       "    <tr>\n",
       "      <th>6</th>\n",
       "      <td>rh_3</td>\n",
       "      <td>0.059032</td>\n",
       "    </tr>\n",
       "    <tr>\n",
       "      <th>5</th>\n",
       "      <td>t3</td>\n",
       "      <td>0.097890</td>\n",
       "    </tr>\n",
       "    <tr>\n",
       "      <th>27</th>\n",
       "      <td>hour</td>\n",
       "      <td>0.688641</td>\n",
       "    </tr>\n",
       "  </tbody>\n",
       "</table>\n",
       "</div>"
      ],
      "text/plain": [
       "       features  importance\n",
       "0        lights    0.021027\n",
       "20  press_mm_hg    0.043475\n",
       "15           t8    0.056759\n",
       "6          rh_3    0.059032\n",
       "5            t3    0.097890\n",
       "27         hour    0.688641"
      ]
     },
     "execution_count": 38,
     "metadata": {},
     "output_type": "execute_result"
    }
   ],
   "source": [
    "feature_importance.sort_values(by=\"importance\").tail(6)"
   ]
  },
  {
   "cell_type": "markdown",
   "metadata": {},
   "source": [
    "7. Utilizando el mejor estimador encontrado en el GridSearchCV realiza la predicción de energía utilizada en cada hogar del conjunto de prueba.8. "
   ]
  },
  {
   "cell_type": "code",
   "execution_count": 39,
   "metadata": {},
   "outputs": [],
   "source": [
    "predictions = gs.predict(test_x)"
   ]
  },
  {
   "cell_type": "code",
   "execution_count": 53,
   "metadata": {},
   "outputs": [
    {
     "data": {
      "text/plain": [
       "array([ 50.,  50.,  50., ..., 110., 110., 110.])"
      ]
     },
     "execution_count": 53,
     "metadata": {},
     "output_type": "execute_result"
    }
   ],
   "source": [
    "predictions"
   ]
  },
  {
   "cell_type": "markdown",
   "metadata": {},
   "source": [
    "8. ¿Cuál es el valor de RMSE y MAE para el conjunto de pruebas? "
   ]
  },
  {
   "cell_type": "code",
   "execution_count": 43,
   "metadata": {},
   "outputs": [],
   "source": [
    "from sklearn.metrics import mean_squared_error, mean_absolute_error, mean_absolute_percentage_error"
   ]
  },
  {
   "cell_type": "markdown",
   "metadata": {},
   "source": [
    "RMSE"
   ]
  },
  {
   "cell_type": "code",
   "execution_count": 46,
   "metadata": {},
   "outputs": [
    {
     "data": {
      "text/plain": [
       "113.96956002976589"
      ]
     },
     "execution_count": 46,
     "metadata": {},
     "output_type": "execute_result"
    }
   ],
   "source": [
    "mean_squared_error(test_y, predictions,squared=False)"
   ]
  },
  {
   "cell_type": "markdown",
   "metadata": {},
   "source": [
    "MAE"
   ]
  },
  {
   "cell_type": "code",
   "execution_count": 42,
   "metadata": {},
   "outputs": [
    {
     "data": {
      "text/plain": [
       "65.9188601787008"
      ]
     },
     "execution_count": 42,
     "metadata": {},
     "output_type": "execute_result"
    }
   ],
   "source": [
    "mean_absolute_error(test_y, predictions)"
   ]
  },
  {
   "cell_type": "markdown",
   "metadata": {},
   "source": [
    "9. ¿Cuál es el valor del peor residual? (la más alejada al valor real) \n",
    "\n",
    "780"
   ]
  },
  {
   "cell_type": "code",
   "execution_count": 118,
   "metadata": {},
   "outputs": [],
   "source": [
    "predictions_df = pd.DataFrame({'true_value': test_y, 'prediction': predictions, \n",
    "                               'residual': test_y - predictions})"
   ]
  },
  {
   "cell_type": "code",
   "execution_count": 119,
   "metadata": {},
   "outputs": [
    {
     "data": {
      "text/html": [
       "<div>\n",
       "<style scoped>\n",
       "    .dataframe tbody tr th:only-of-type {\n",
       "        vertical-align: middle;\n",
       "    }\n",
       "\n",
       "    .dataframe tbody tr th {\n",
       "        vertical-align: top;\n",
       "    }\n",
       "\n",
       "    .dataframe thead th {\n",
       "        text-align: right;\n",
       "    }\n",
       "</style>\n",
       "<table border=\"1\" class=\"dataframe\">\n",
       "  <thead>\n",
       "    <tr style=\"text-align: right;\">\n",
       "      <th></th>\n",
       "      <th>true_value</th>\n",
       "      <th>prediction</th>\n",
       "      <th>residual</th>\n",
       "    </tr>\n",
       "  </thead>\n",
       "  <tbody>\n",
       "    <tr>\n",
       "      <th>15594</th>\n",
       "      <td>30</td>\n",
       "      <td>50.0</td>\n",
       "      <td>-20.0</td>\n",
       "    </tr>\n",
       "    <tr>\n",
       "      <th>15595</th>\n",
       "      <td>20</td>\n",
       "      <td>50.0</td>\n",
       "      <td>-30.0</td>\n",
       "    </tr>\n",
       "    <tr>\n",
       "      <th>15596</th>\n",
       "      <td>40</td>\n",
       "      <td>50.0</td>\n",
       "      <td>-10.0</td>\n",
       "    </tr>\n",
       "    <tr>\n",
       "      <th>15597</th>\n",
       "      <td>50</td>\n",
       "      <td>50.0</td>\n",
       "      <td>0.0</td>\n",
       "    </tr>\n",
       "    <tr>\n",
       "      <th>15598</th>\n",
       "      <td>50</td>\n",
       "      <td>50.0</td>\n",
       "      <td>0.0</td>\n",
       "    </tr>\n",
       "  </tbody>\n",
       "</table>\n",
       "</div>"
      ],
      "text/plain": [
       "       true_value  prediction  residual\n",
       "15594          30        50.0     -20.0\n",
       "15595          20        50.0     -30.0\n",
       "15596          40        50.0     -10.0\n",
       "15597          50        50.0       0.0\n",
       "15598          50        50.0       0.0"
      ]
     },
     "execution_count": 119,
     "metadata": {},
     "output_type": "execute_result"
    }
   ],
   "source": [
    "predictions_df.head()"
   ]
  },
  {
   "cell_type": "code",
   "execution_count": 124,
   "metadata": {},
   "outputs": [
    {
     "data": {
      "text/html": [
       "<div>\n",
       "<style scoped>\n",
       "    .dataframe tbody tr th:only-of-type {\n",
       "        vertical-align: middle;\n",
       "    }\n",
       "\n",
       "    .dataframe tbody tr th {\n",
       "        vertical-align: top;\n",
       "    }\n",
       "\n",
       "    .dataframe thead th {\n",
       "        text-align: right;\n",
       "    }\n",
       "</style>\n",
       "<table border=\"1\" class=\"dataframe\">\n",
       "  <thead>\n",
       "    <tr style=\"text-align: right;\">\n",
       "      <th></th>\n",
       "      <th>true_value</th>\n",
       "      <th>prediction</th>\n",
       "      <th>residual</th>\n",
       "    </tr>\n",
       "  </thead>\n",
       "  <tbody>\n",
       "    <tr>\n",
       "      <th>count</th>\n",
       "      <td>4141.000000</td>\n",
       "      <td>4141.000000</td>\n",
       "      <td>4141.000000</td>\n",
       "    </tr>\n",
       "    <tr>\n",
       "      <th>mean</th>\n",
       "      <td>96.409080</td>\n",
       "      <td>117.049022</td>\n",
       "      <td>-20.639942</td>\n",
       "    </tr>\n",
       "    <tr>\n",
       "      <th>std</th>\n",
       "      <td>91.626873</td>\n",
       "      <td>78.329076</td>\n",
       "      <td>112.098564</td>\n",
       "    </tr>\n",
       "    <tr>\n",
       "      <th>min</th>\n",
       "      <td>20.000000</td>\n",
       "      <td>50.000000</td>\n",
       "      <td>-240.000000</td>\n",
       "    </tr>\n",
       "    <tr>\n",
       "      <th>25%</th>\n",
       "      <td>50.000000</td>\n",
       "      <td>60.000000</td>\n",
       "      <td>-30.000000</td>\n",
       "    </tr>\n",
       "    <tr>\n",
       "      <th>50%</th>\n",
       "      <td>60.000000</td>\n",
       "      <td>90.000000</td>\n",
       "      <td>-10.000000</td>\n",
       "    </tr>\n",
       "    <tr>\n",
       "      <th>75%</th>\n",
       "      <td>100.000000</td>\n",
       "      <td>110.000000</td>\n",
       "      <td>10.000000</td>\n",
       "    </tr>\n",
       "    <tr>\n",
       "      <th>max</th>\n",
       "      <td>850.000000</td>\n",
       "      <td>260.000000</td>\n",
       "      <td>780.000000</td>\n",
       "    </tr>\n",
       "  </tbody>\n",
       "</table>\n",
       "</div>"
      ],
      "text/plain": [
       "        true_value   prediction     residual\n",
       "count  4141.000000  4141.000000  4141.000000\n",
       "mean     96.409080   117.049022   -20.639942\n",
       "std      91.626873    78.329076   112.098564\n",
       "min      20.000000    50.000000  -240.000000\n",
       "25%      50.000000    60.000000   -30.000000\n",
       "50%      60.000000    90.000000   -10.000000\n",
       "75%     100.000000   110.000000    10.000000\n",
       "max     850.000000   260.000000   780.000000"
      ]
     },
     "execution_count": 124,
     "metadata": {},
     "output_type": "execute_result"
    }
   ],
   "source": [
    "predictions_df.describe()"
   ]
  },
  {
   "cell_type": "markdown",
   "metadata": {},
   "source": [
    "10. ¿Qué valores tenían las variables predictivas correspondientes a la peor predicción?"
   ]
  },
  {
   "cell_type": "code",
   "execution_count": 125,
   "metadata": {},
   "outputs": [
    {
     "data": {
      "text/html": [
       "<div>\n",
       "<style scoped>\n",
       "    .dataframe tbody tr th:only-of-type {\n",
       "        vertical-align: middle;\n",
       "    }\n",
       "\n",
       "    .dataframe tbody tr th {\n",
       "        vertical-align: top;\n",
       "    }\n",
       "\n",
       "    .dataframe thead th {\n",
       "        text-align: right;\n",
       "    }\n",
       "</style>\n",
       "<table border=\"1\" class=\"dataframe\">\n",
       "  <thead>\n",
       "    <tr style=\"text-align: right;\">\n",
       "      <th></th>\n",
       "      <th>true_value</th>\n",
       "      <th>prediction</th>\n",
       "      <th>residual</th>\n",
       "    </tr>\n",
       "  </thead>\n",
       "  <tbody>\n",
       "    <tr>\n",
       "      <th>15798</th>\n",
       "      <td>840</td>\n",
       "      <td>60.0</td>\n",
       "      <td>780.0</td>\n",
       "    </tr>\n",
       "  </tbody>\n",
       "</table>\n",
       "</div>"
      ],
      "text/plain": [
       "       true_value  prediction  residual\n",
       "15798         840        60.0     780.0"
      ]
     },
     "execution_count": 125,
     "metadata": {},
     "output_type": "execute_result"
    }
   ],
   "source": [
    "predictions_df[predictions_df.residual == 780]"
   ]
  },
  {
   "cell_type": "code",
   "execution_count": 130,
   "metadata": {},
   "outputs": [
    {
     "data": {
      "text/html": [
       "<div>\n",
       "<style scoped>\n",
       "    .dataframe tbody tr th:only-of-type {\n",
       "        vertical-align: middle;\n",
       "    }\n",
       "\n",
       "    .dataframe tbody tr th {\n",
       "        vertical-align: top;\n",
       "    }\n",
       "\n",
       "    .dataframe thead th {\n",
       "        text-align: right;\n",
       "    }\n",
       "</style>\n",
       "<table border=\"1\" class=\"dataframe\">\n",
       "  <thead>\n",
       "    <tr style=\"text-align: right;\">\n",
       "      <th></th>\n",
       "      <th>date</th>\n",
       "      <th>appliances</th>\n",
       "      <th>lights</th>\n",
       "      <th>t1</th>\n",
       "      <th>rh_1</th>\n",
       "      <th>t2</th>\n",
       "      <th>rh_2</th>\n",
       "      <th>t3</th>\n",
       "      <th>rh_3</th>\n",
       "      <th>t4</th>\n",
       "      <th>...</th>\n",
       "      <th>rh_out</th>\n",
       "      <th>windspeed</th>\n",
       "      <th>visibility</th>\n",
       "      <th>tdewpoint</th>\n",
       "      <th>rv1</th>\n",
       "      <th>rv2</th>\n",
       "      <th>year</th>\n",
       "      <th>month</th>\n",
       "      <th>day</th>\n",
       "      <th>hour</th>\n",
       "    </tr>\n",
       "  </thead>\n",
       "  <tbody>\n",
       "    <tr>\n",
       "      <th>15798</th>\n",
       "      <td>2016-04-30 10:00:00</td>\n",
       "      <td>840</td>\n",
       "      <td>0</td>\n",
       "      <td>21.39</td>\n",
       "      <td>37.7</td>\n",
       "      <td>20.133333</td>\n",
       "      <td>38.466667</td>\n",
       "      <td>22.7</td>\n",
       "      <td>36.59</td>\n",
       "      <td>19.823333</td>\n",
       "      <td>...</td>\n",
       "      <td>83.0</td>\n",
       "      <td>1.0</td>\n",
       "      <td>40.0</td>\n",
       "      <td>4.3</td>\n",
       "      <td>47.772522</td>\n",
       "      <td>47.772522</td>\n",
       "      <td>2016</td>\n",
       "      <td>4</td>\n",
       "      <td>30</td>\n",
       "      <td>10</td>\n",
       "    </tr>\n",
       "  </tbody>\n",
       "</table>\n",
       "<p>1 rows × 33 columns</p>\n",
       "</div>"
      ],
      "text/plain": [
       "                      date  appliances  lights     t1  rh_1         t2  \\\n",
       "15798  2016-04-30 10:00:00         840       0  21.39  37.7  20.133333   \n",
       "\n",
       "            rh_2    t3   rh_3         t4  ...  rh_out  windspeed  visibility  \\\n",
       "15798  38.466667  22.7  36.59  19.823333  ...    83.0        1.0        40.0   \n",
       "\n",
       "       tdewpoint        rv1        rv2  year  month  day  hour  \n",
       "15798        4.3  47.772522  47.772522  2016      4   30    10  \n",
       "\n",
       "[1 rows x 33 columns]"
      ]
     },
     "execution_count": 130,
     "metadata": {},
     "output_type": "execute_result"
    }
   ],
   "source": [
    "test[test.appliances == 840]"
   ]
  },
  {
   "cell_type": "code",
   "execution_count": null,
   "metadata": {},
   "outputs": [],
   "source": []
  }
 ],
 "metadata": {
  "kernelspec": {
   "display_name": "iexe",
   "language": "python",
   "name": "iexe"
  },
  "language_info": {
   "codemirror_mode": {
    "name": "ipython",
    "version": 3
   },
   "file_extension": ".py",
   "mimetype": "text/x-python",
   "name": "python",
   "nbconvert_exporter": "python",
   "pygments_lexer": "ipython3",
   "version": "3.7.4"
  }
 },
 "nbformat": 4,
 "nbformat_minor": 4
}
